{
 "cells": [
  {
   "cell_type": "code",
   "execution_count": 1,
   "id": "323277e1-c19b-417e-9b99-d6ee41beb380",
   "metadata": {},
   "outputs": [],
   "source": [
    "import sys\n",
    "sys.path.append(\"../train_fairseq\")\n",
    "import os\n",
    "import torch\n",
    "from bart_with_extractor import ProposedModel\n",
    "from mytask import ProposalTask\n",
    "\n",
    "%matplotlib inline\n",
    "import matplotlib.pyplot as plt"
   ]
  },
  {
   "cell_type": "code",
   "execution_count": 2,
   "id": "6a725ac4-a384-4be2-b76f-909472bd3dcf",
   "metadata": {},
   "outputs": [],
   "source": [
    "model = ProposedModel.from_pretrained(\n",
    "    \"/home/naraki/shorten_sum/Expt_ShortenSum/output/finetune-proposal-large_20220830031044\",\n",
    "    checkpoint_file=\"checkpoint_best.pt\",\n",
    "    data_name_or_path=\"/home/naraki/shorten_sum/Expt_ShortenSum/output/finetune-proposal-large_20220830031044\",\n",
    ")\n",
    "model.model.encoder.use_topk_result = True\n",
    "model = model.eval()\n",
    "# if torch.cuda.is_available():\n",
    "#     model = model.cuda().half()"
   ]
  },
  {
   "cell_type": "code",
   "execution_count": 3,
   "id": "054051d5-30ce-4db3-8394-df0c9571718d",
   "metadata": {},
   "outputs": [
    {
     "data": {
      "text/plain": [
       "SortedTopK_custom()"
      ]
     },
     "execution_count": 3,
     "metadata": {},
     "output_type": "execute_result"
    }
   ],
   "source": [
    "model.model.encoder.extractor.topk_ope"
   ]
  },
  {
   "cell_type": "code",
   "execution_count": 4,
   "id": "4b5b6051-bdca-468d-bca8-f55a5d0ae40a",
   "metadata": {},
   "outputs": [],
   "source": [
    "source = \"\"\"Marseille, France (CNN)The French prosecutor leading an investigation into the crash of Germanwings Flight 9525 insisted Wednesday that he was not aware of any video footage from on board the plane. Marseille prosecutor Brice Robin told CNN that \"so far no videos were used in the crash investigation.\" He added, \"A person who has such a video needs to immediately give it to the investigators.\" Robin's comments follow claims by two magazines, German daily Bild and French Paris Match, of a cell phone video showing the harrowing final seconds from on board Germanwings Flight 9525 as it crashed into the French Alps. All 150 on board were killed. Paris Match and Bild reported that the video was recovered from a phone at the wreckage site. The two publications described the supposed video, but did not post it on their websites. The publications said that they watched the video, which was found by a source close to the investigation. \"One can hear cries of 'My God' in several languages,\" Paris Match reported. \"Metallic banging can also be heard more than three times, perhaps of the pilot trying to open the cockpit door with a heavy object.  Towards the end, after a heavy shake, stronger than the others, the screaming intensifies. Then nothing.\" \"It is a very disturbing scene,\" said Julian Reichelt, editor-in-chief of Bild online. An official with France's accident investigation agency, the BEA, said the agency is not aware of any such video. Lt. Col. Jean-Marc Menichini, a French Gendarmerie spokesman in charge of communications on rescue efforts around the Germanwings crash site, told CNN that the reports were \"completely wrong\" and \"unwarranted.\" Cell phones have been collected at the site, he said, but that they \"hadn't been exploited yet.\" Menichini said he believed the cell phones would need to be sent to the Criminal Research Institute in Rosny sous-Bois, near Paris, in order to be analyzed by specialized technicians working hand-in-hand with investigators. But none of the cell phones found so far have been sent to the institute, Menichini said. Asked whether staff involved in the search could have leaked a memory card to the media, Menichini answered with a categorical \"no.\" Reichelt told \"Erin Burnett: Outfront\" that he had watched the video and stood by the report, saying Bild and Paris Match are \"very confident\" that the clip is real. He noted that investigators only revealed they'd recovered cell phones from the crash site after Bild and Paris Match published their reports. \"That is something we did not know before. ... Overall we can say many things of the investigation weren't revealed by the investigation at the beginning,\" he said. What was mental state of Germanwings co-pilot? German airline Lufthansa confirmed Tuesday that co-pilot Andreas Lubitz had battled depression years before he took the controls of Germanwings Flight 9525, which he's accused of deliberately crashing last week in the French Alps. Lubitz told his Lufthansa flight training school in 2009 that he had a \"previous episode of severe depression,\" the airline said Tuesday. Email correspondence between Lubitz and the school discovered in an internal investigation, Lufthansa said, included medical documents he submitted in connection with resuming his flight training. The announcement indicates that Lufthansa, the parent company of Germanwings, knew of Lubitz's battle with depression, allowed him to continue training and ultimately put him in the cockpit. Lufthansa, whose CEO Carsten Spohr previously said Lubitz was 100% fit to fly, described its statement Tuesday as a \"swift and seamless clarification\" and said it was sharing the information and documents -- including training and medical records -- with public prosecutors. Spohr traveled to the crash site Wednesday, where recovery teams have been working for the past week to recover human remains and plane debris scattered across a steep mountainside. He saw the crisis center set up in Seyne-les-Alpes, laid a wreath in the village of Le Vernet, closer to the crash site, where grieving families have left flowers at a simple stone memorial. Menichini told CNN late Tuesday that no visible human remains were left at the site but recovery teams would keep searching. French President Francois Hollande, speaking Tuesday, said that it should be possible to identify all the victims using DNA analysis by the end of the week, sooner than authorities had previously suggested. In the meantime, the recovery of the victims' personal belongings will start Wednesday, Menichini said. Among those personal belongings could be more cell phones belonging to the 144 passengers and six crew on board. Check out the latest from our correspondents . The details about Lubitz's correspondence with the flight school during his training were among several developments as investigators continued to delve into what caused the crash and Lubitz's possible motive for downing the jet. A Lufthansa spokesperson told CNN on Tuesday that Lubitz had a valid medical certificate, had passed all his examinations and \"held all the licenses required.\" Earlier, a spokesman for the prosecutor's office in Dusseldorf, Christoph Kumpa, said medical records reveal Lubitz suffered from suicidal tendencies at some point before his aviation career and underwent psychotherapy before he got his pilot's license. Kumpa emphasized there's no evidence suggesting Lubitz was suicidal or acting aggressively before the crash. Investigators are looking into whether Lubitz feared his medical condition would cause him to lose his pilot's license, a European government official briefed on the investigation told CNN on Tuesday. While flying was \"a big part of his life,\" the source said, it's only one theory being considered. Another source, a law enforcement official briefed on the investigation, also told CNN that authorities believe the primary motive for Lubitz to bring down the plane was that he feared he would not be allowed to fly because of his medical problems. Lubitz's girlfriend told investigators he had seen an eye doctor and a neuropsychologist, both of whom deemed him unfit to work recently and concluded he had psychological issues, the European government official said. But no matter what details emerge about his previous mental health struggles, there's more to the story, said Brian Russell, a forensic psychologist. \"Psychology can explain why somebody would turn rage inward on themselves about the fact that maybe they weren't going to keep doing their job and they're upset about that and so they're suicidal,\" he said. \"But there is no mental illness that explains why somebody then feels entitled to also take that rage and turn it outward on 149 other people who had nothing to do with the person's problems.\" Germanwings crash compensation: What we know . Who was the captain of Germanwings Flight 9525? CNN's Margot Haddad reported from Marseille and Pamela Brown from Dusseldorf, while Laura Smith-Spark wrote from London. CNN's Frederik Pleitgen, Pamela Boykoff, Antonia Mortensen, Sandrine Amiel and Anna-Maja Rappard contributed to this report.\"\"\"\n",
    "tokens = model.encode(source)"
   ]
  },
  {
   "cell_type": "code",
   "execution_count": 5,
   "id": "34618153-c871-4e2c-8c8c-5fff979a0926",
   "metadata": {},
   "outputs": [],
   "source": [
    "tgt_lengths = torch.LongTensor([65])\n",
    "encoder_out, topk_result = model.extract_topk_result(tokens, tgt_lengths)"
   ]
  },
  {
   "cell_type": "code",
   "execution_count": 6,
   "id": "5c828357-b434-48c6-a4d5-f33084187d51",
   "metadata": {},
   "outputs": [
    {
     "data": {
      "text/plain": [
       "tensor([[1.0178, 0.3155, 0.3636,  ..., 0.1973, 0.1646, 1.0183]],\n",
       "       grad_fn=<SumBackward1>)"
      ]
     },
     "execution_count": 6,
     "metadata": {},
     "output_type": "execute_result"
    }
   ],
   "source": [
    "topk_result.sum(axis=-1)"
   ]
  },
  {
   "cell_type": "code",
   "execution_count": 7,
   "id": "3ac05b4a-b78e-4c45-a955-d5001fb1ea99",
   "metadata": {},
   "outputs": [
    {
     "data": {
      "text/plain": [
       "tensor(8.3113e-11, grad_fn=<MinBackward1>)"
      ]
     },
     "execution_count": 7,
     "metadata": {},
     "output_type": "execute_result"
    }
   ],
   "source": [
    "topk_result.min()"
   ]
  },
  {
   "cell_type": "code",
   "execution_count": 8,
   "id": "8ca81fe0-7d0e-48e5-a545-af7042adef11",
   "metadata": {},
   "outputs": [
    {
     "data": {
      "text/plain": [
       "(array([368., 198., 118.,  95.,  41.,  52.,  33.,  29.,  39.,  51.]),\n",
       " array([0.11737105, 0.20817952, 0.29898798, 0.38979644, 0.48060492,\n",
       "        0.5714134 , 0.66222185, 0.7530303 , 0.84383875, 0.93464726,\n",
       "        1.0254557 ], dtype=float32),\n",
       " <BarContainer object of 10 artists>)"
      ]
     },
     "execution_count": 8,
     "metadata": {},
     "output_type": "execute_result"
    },
    {
     "data": {
      "image/png": "[encoded data removed]",
      "text/plain": [
       "<Figure size 432x288 with 1 Axes>"
      ]
     },
     "metadata": {
      "needs_background": "light"
     },
     "output_type": "display_data"
    }
   ],
   "source": [
    "plt.hist(topk_result.sum(axis=-1).data)"
   ]
  },
  {
   "cell_type": "code",
   "execution_count": 9,
   "id": "2aaeb176-bc81-4ec4-8b24-ea237c076951",
   "metadata": {},
   "outputs": [
    {
     "data": {
      "text/plain": [
       "(array([230., 226., 152.,  90.,  90.,  56.,  58.,  34.,  40.,  48.]),\n",
       " array([0.20138878, 0.28410596, 0.36682314, 0.4495403 , 0.5322575 ,\n",
       "        0.6149746 , 0.6976918 , 0.780409  , 0.86312616, 0.94584334,\n",
       "        1.0285605 ], dtype=float32),\n",
       " <BarContainer object of 10 artists>)"
      ]
     },
     "execution_count": 9,
     "metadata": {},
     "output_type": "execute_result"
    },
    {
     "data": {
      "image/png": "[encoded data removed]",
      "text/plain": [
       "<Figure size 432x288 with 1 Axes>"
      ]
     },
     "metadata": {
      "needs_background": "light"
     },
     "output_type": "display_data"
    }
   ],
   "source": [
    "tgt_lengths = torch.LongTensor([85])\n",
    "encoder_out, topk_result = model.extract_topk_result(tokens, tgt_lengths)\n",
    "plt.hist(topk_result.sum(axis=-1).data)"
   ]
  },
  {
   "cell_type": "code",
   "execution_count": 10,
   "id": "7ffc6e3a-130d-4c20-8403-8b1026d28073",
   "metadata": {},
   "outputs": [
    {
     "data": {
      "text/plain": [
       "(array([681., 116.,  52.,  34.,  19.,  14.,  16.,  11.,  23.,  58.]),\n",
       " array([0.02738427, 0.12734668, 0.2273091 , 0.32727152, 0.42723393,\n",
       "        0.52719635, 0.62715876, 0.7271212 , 0.8270836 , 0.927046  ,\n",
       "        1.0270084 ], dtype=float32),\n",
       " <BarContainer object of 10 artists>)"
      ]
     },
     "execution_count": 10,
     "metadata": {},
     "output_type": "execute_result"
    },
    {
     "data": {
      "image/png": "[encoded data removed]",
      "text/plain": [
       "<Figure size 432x288 with 1 Axes>"
      ]
     },
     "metadata": {
      "needs_background": "light"
     },
     "output_type": "display_data"
    }
   ],
   "source": [
    "tgt_lengths = torch.LongTensor([30])\n",
    "model.model.encoder.use_topk_result = True\n",
    "encoder_out, topk_result = model.extract_topk_result(tokens, tgt_lengths)\n",
    "plt.hist(topk_result.sum(axis=-1).data)"
   ]
  },
  {
   "cell_type": "code",
   "execution_count": 11,
   "id": "e3e7352a-d909-4e6d-8f65-485550c5cc27",
   "metadata": {},
   "outputs": [],
   "source": [
    "# input = [self.encode(sentence) for sentence in sentences]\n",
    "# hypos = self.generate(input, desired_lengths, beam, verbose, **kwargs)\n",
    "# output= [self.decode(x[\"tokens\"]) for x in hypos]\n"
   ]
  },
  {
   "cell_type": "code",
   "execution_count": 12,
   "id": "5d1c3b89-d0fb-4dd4-a975-ae5cce758726",
   "metadata": {},
   "outputs": [
    {
     "data": {
      "text/plain": [
       "['French prosecutor: \"No videos were used in the crash investigation\" German media report cell phone video shows harrowing final seconds of Germanwings crash . Prosecutor: \"A person who has such a video needs to immediately give it to the investigators\"\"\"']"
      ]
     },
     "execution_count": 12,
     "metadata": {},
     "output_type": "execute_result"
    }
   ],
   "source": [
    "tgt_lengths = torch.LongTensor([30])\n",
    "eval_kwargs = dict(lenpen=2.0, max_len_b=140, min_len=50, no_repeat_ngram_size=3)\n",
    "model.model.encoder.use_topk_result = False\n",
    "hypos = model.generate([tokens], tgt_lengths, beam=4, **eval_kwargs)\n",
    "output = [model.decode(x[\"tokens\"]) for x in hypos]\n",
    "output # 48 tokens"
   ]
  },
  {
   "cell_type": "code",
   "execution_count": 13,
   "id": "c8471357-4b1a-410f-a4c9-a30118cc396c",
   "metadata": {},
   "outputs": [
    {
     "data": {
      "text/plain": [
       "['French prosecutor: \"No videos were used in the crash investigation\" German media report cell phone video shows harrowing final seconds of Germanwings crash . Prosecutor: \"A person who has such a video should give it to investigators\"']"
      ]
     },
     "execution_count": 13,
     "metadata": {},
     "output_type": "execute_result"
    }
   ],
   "source": [
    "tgt_lengths = torch.LongTensor([30])\n",
    "# eval_kwargs = dict(lenpen=2.0, max_len_b=140, min_len=55, no_repeat_ngram_size=3)\n",
    "eval_kwargs = dict(no_repeat_ngram_size=3)\n",
    "model.model.encoder.use_topk_result = False\n",
    "hypos = model.generate([tokens], tgt_lengths, beam=4, **eval_kwargs)\n",
    "output = [model.decode(x[\"tokens\"]) for x in hypos]\n",
    "with open(\"../30.out\", \"w\") as f:\n",
    "    f.write(output[0])\n",
    "output # 43 tokens"
   ]
  },
  {
   "cell_type": "code",
   "execution_count": 13,
   "id": "1df215fc-0862-4cfe-a7bc-60a064575d7a",
   "metadata": {},
   "outputs": [
    {
     "data": {
      "text/plain": [
       "['French prosecutor: \"A person who has such a video needs to immediately give it to the investigators\" \"It is a very disturbing scene,\" says Bild editor-in-chief Julian Reichelt, who says he watched the video . A French Gendarmerie spokesman says cell phones have been collected at the crash site, but haven\\'t been exploited yet . Lufthansa confirms that co-pilot Andreas Lubitz had battled depression years before he took the controls of Germanwings Flight 9525 . All 150 people on board were killed when the plane crashed into the French Alps last week .']"
      ]
     },
     "execution_count": 13,
     "metadata": {},
     "output_type": "execute_result"
    }
   ],
   "source": [
    "tgt_lengths = torch.LongTensor([90])\n",
    "eval_kwargs = dict(no_repeat_ngram_size=3)\n",
    "model.model.encoder.use_topk_result = False\n",
    "hypos = model.generate([tokens], tgt_lengths, beam=4, **eval_kwargs)\n",
    "output= [model.decode(x[\"tokens\"]) for x in hypos]\n",
    "with open(\"../90.out\", \"w\") as f:\n",
    "    f.write(output[0])\n",
    "output # 102 tokens"
   ]
  },
  {
   "cell_type": "code",
   "execution_count": 19,
   "id": "f5a62cf2-b0a7-44df-8fa0-7729ce1a3c6e",
   "metadata": {},
   "outputs": [],
   "source": []
  },
  {
   "cell_type": "code",
   "execution_count": null,
   "id": "d562193f-72b4-43ad-b3d9-f4ef8b0d3824",
   "metadata": {},
   "outputs": [],
   "source": []
  },
  {
   "cell_type": "code",
   "execution_count": null,
   "id": "43d6e002-6675-4e5c-bb98-3bf230acc1a7",
   "metadata": {},
   "outputs": [],
   "source": []
  },
  {
   "cell_type": "code",
   "execution_count": null,
   "id": "18d826c3-1b12-428b-acb0-85560e54ce3d",
   "metadata": {},
   "outputs": [],
   "source": []
  },
  {
   "cell_type": "code",
   "execution_count": 22,
   "id": "b60585fd-b86f-4447-90a4-7fa5aed3f1f0",
   "metadata": {},
   "outputs": [],
   "source": [
    "from differentiable_topk import SortedTopK_custom\n",
    "topk_ope = SortedTopK_custom(epsilon=0.000001, max_iter=200)"
   ]
  },
  {
   "cell_type": "code",
   "execution_count": 28,
   "id": "a454028d-39af-4d6d-808f-c4c6ab14c168",
   "metadata": {},
   "outputs": [],
   "source": [
    "tokens = torch.randn([1,1024])"
   ]
  },
  {
   "cell_type": "code",
   "execution_count": 29,
   "id": "eaf9b6ff-b577-40c9-8c71-288c9782b77b",
   "metadata": {},
   "outputs": [
    {
     "data": {
      "text/plain": [
       "tensor([[0.0956, 1.0056, 0.1668,  ..., 0.0820, 0.0725, 0.7539]])"
      ]
     },
     "execution_count": 29,
     "metadata": {},
     "output_type": "execute_result"
    }
   ],
   "source": [
    "topk_result, _ = topk_ope(torch.softmax(tokens, dim=-1), 256)\n",
    "topk_result.sum(axis=-1)\n"
   ]
  },
  {
   "cell_type": "code",
   "execution_count": 30,
   "id": "c67189bf-a2cc-4985-b39c-22dd928b63c6",
   "metadata": {},
   "outputs": [
    {
     "data": {
      "text/plain": [
       "tensor([[5.6406e-31, 5.1433e-10, 4.9122e-24,  ..., 2.4352e-34, 5.0940e-38,\n",
       "         1.3331e-14]])"
      ]
     },
     "execution_count": 30,
     "metadata": {},
     "output_type": "execute_result"
    }
   ],
   "source": [
    "topk_result, _ = topk_ope(tokens, 256)\n",
    "topk_result.sum(axis=-1)\n"
   ]
  },
  {
   "cell_type": "code",
   "execution_count": 31,
   "id": "3838eea4-3534-47f5-ae65-8ffd851710fd",
   "metadata": {},
   "outputs": [
    {
     "data": {
      "text/plain": [
       "(array([1.023e+03, 0.000e+00, 0.000e+00, 0.000e+00, 0.000e+00, 0.000e+00,\n",
       "        0.000e+00, 0.000e+00, 0.000e+00, 1.000e+00]),\n",
       " array([  0.      ,  19.491062,  38.982124,  58.473183,  77.96425 ,\n",
       "         97.45531 , 116.946365, 136.43742 , 155.9285  , 175.41956 ,\n",
       "        194.91061 ], dtype=float32),\n",
       " <BarContainer object of 10 artists>)"
      ]
     },
     "execution_count": 31,
     "metadata": {},
     "output_type": "execute_result"
    },
    {
     "data": {
      "image/png": "[encoded data removed]",
      "text/plain": [
       "<Figure size 432x288 with 1 Axes>"
      ]
     },
     "metadata": {
      "needs_background": "light"
     },
     "output_type": "display_data"
    }
   ],
   "source": [
    "plt.hist(topk_result.sum(axis=-1).data)"
   ]
  },
  {
   "cell_type": "code",
   "execution_count": 35,
   "id": "0a25493d-16c1-4186-b562-7d92ce6cccf1",
   "metadata": {},
   "outputs": [
    {
     "name": "stdout",
     "output_type": "stream",
     "text": [
      "tensor(3.0294)\n",
      "tensor(7.9654)\n"
     ]
    },
    {
     "data": {
      "text/plain": [
       "(array([920.,  61.,  14.,   5.,   6.,   5.,   5.,   2.,   3.,   3.]),\n",
       " array([2.6740381e-08, 7.9653978e-01, 1.5930794e+00, 2.3896191e+00,\n",
       "        3.1861589e+00, 3.9826987e+00, 4.7792382e+00, 5.5757780e+00,\n",
       "        6.3723178e+00, 7.1688576e+00, 7.9653974e+00], dtype=float32),\n",
       " <BarContainer object of 10 artists>)"
      ]
     },
     "execution_count": 35,
     "metadata": {},
     "output_type": "execute_result"
    },
    {
     "data": {
      "image/png": "[encoded data removed]",
      "text/plain": [
       "<Figure size 432x288 with 1 Axes>"
      ]
     },
     "metadata": {
      "needs_background": "light"
     },
     "output_type": "display_data"
    }
   ],
   "source": [
    "topk_ope = SortedTopK_custom(epsilon=0.00001, max_iter=200)\n",
    "tokens = torch.randn([1,1024])\n",
    "print(tokens.max())\n",
    "\n",
    "topk_result, _ = topk_ope(tokens, 256)\n",
    "print(topk_result.sum(axis=-1).max())\n",
    "\n",
    "plt.hist(topk_result.sum(axis=-1).data)"
   ]
  },
  {
   "cell_type": "code",
   "execution_count": 38,
   "id": "3f7ca935-1077-4fd2-a180-3cc7f789fba8",
   "metadata": {},
   "outputs": [
    {
     "data": {
      "text/plain": [
       "tensor(0.0040)"
      ]
     },
     "execution_count": 38,
     "metadata": {},
     "output_type": "execute_result"
    }
   ],
   "source": [
    "sorted(topk_result.sum(dim=-1).ravel())[-256]"
   ]
  },
  {
   "cell_type": "code",
   "execution_count": 39,
   "id": "f6b66626-9416-47dc-aa4d-66757fdff507",
   "metadata": {},
   "outputs": [
    {
     "data": {
      "text/plain": [
       "tensor(0.0100)"
      ]
     },
     "execution_count": 39,
     "metadata": {},
     "output_type": "execute_result"
    }
   ],
   "source": [
    "sorted(topk_result.sum(dim=-1).ravel())[-200]"
   ]
  },
  {
   "cell_type": "code",
   "execution_count": 40,
   "id": "1fd0819a-f47c-43b9-9a4e-17ce7a148b87",
   "metadata": {},
   "outputs": [
    {
     "data": {
      "text/plain": [
       "tensor(101)"
      ]
     },
     "execution_count": 40,
     "metadata": {},
     "output_type": "execute_result"
    }
   ],
   "source": [
    "(topk_result.sum(dim=-1)>0.9).sum()"
   ]
  },
  {
   "cell_type": "code",
   "execution_count": null,
   "id": "4aba9e2f-0532-4145-9039-5693d5b25ea0",
   "metadata": {},
   "outputs": [],
   "source": []
  }
 ],
 "metadata": {
  "kernelspec": {
   "display_name": "Python 3 (ipykernel)",
   "language": "python",
   "name": "python3"
  },
  "language_info": {
   "codemirror_mode": {
    "name": "ipython",
    "version": 3
   },
   "file_extension": ".py",
   "mimetype": "text/x-python",
   "name": "python",
   "nbconvert_exporter": "python",
   "pygments_lexer": "ipython3",
   "version": "3.8.9"
  }
 },
 "nbformat": 4,
 "nbformat_minor": 5
}
