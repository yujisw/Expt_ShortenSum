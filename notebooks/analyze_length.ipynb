{
 "cells": [
  {
   "cell_type": "code",
   "execution_count": 9,
   "id": "a3584595-59ea-4d90-ae5c-8cd29b839fe7",
   "metadata": {},
   "outputs": [],
   "source": [
    "import numpy as np\n",
    "\n",
    "%matplotlib inline\n",
    "import matplotlib.pyplot as plt"
   ]
  },
  {
   "cell_type": "code",
   "execution_count": 20,
   "id": "8cb93c08-5222-4cf3-a403-7f3aef3f1635",
   "metadata": {},
   "outputs": [
    {
     "name": "stdout",
     "output_type": "stream",
     "text": [
      "67\n",
      "72.50992167101828\n"
     ]
    },
    {
     "data": {
      "text/plain": [
       "(array([   0.,    0.,   10.,   49.,  285.,  783., 1172., 1005.,  912.,\n",
       "         913.,  748.,  917.,  770.,  585.,  467.,  377.,  324.,  267.,\n",
       "         225.,  205.,  203.,  132.,  170.,  176.,  219.,  219.,  195.,\n",
       "         121.,   41.,    0.,    0.,    0.]),\n",
       " array([ 25.     ,  28.90625,  32.8125 ,  36.71875,  40.625  ,  44.53125,\n",
       "         48.4375 ,  52.34375,  56.25   ,  60.15625,  64.0625 ,  67.96875,\n",
       "         71.875  ,  75.78125,  79.6875 ,  83.59375,  87.5    ,  91.40625,\n",
       "         95.3125 ,  99.21875, 103.125  , 107.03125, 110.9375 , 114.84375,\n",
       "        118.75   , 122.65625, 126.5625 , 130.46875, 134.375  , 138.28125,\n",
       "        142.1875 , 146.09375, 150.     ]),\n",
       " <BarContainer object of 32 artists>)"
      ]
     },
     "execution_count": 20,
     "metadata": {},
     "output_type": "execute_result"
    },
    {
     "data": {
      "image/png": "[encoded data removed]",
      "text/plain": [
       "<Figure size 432x288 with 1 Axes>"
      ]
     },
     "metadata": {
      "needs_background": "light"
     },
     "output_type": "display_data"
    }
   ],
   "source": [
    "with open(\"../output/finetune-proposal-large_20220811031324/test.hypo.tokenized\", \"r\") as f:\n",
    "    oracle = f.readlines()\n",
    "oracle = [s[:-1] for s in oracle]\n",
    "oracle_length = np.array([len(s.split(\" \")) for s in oracle])\n",
    "print(oracle_length[0])\n",
    "print(oracle_length.mean())\n",
    "plt.hist(oracle_length, bins=32, range=(25, 150))"
   ]
  },
  {
   "cell_type": "code",
   "execution_count": 21,
   "id": "a0ff9496-a221-4c7e-ae2d-a80be87766d7",
   "metadata": {},
   "outputs": [
    {
     "name": "stdout",
     "output_type": "stream",
     "text": [
      "55\n",
      "64.36005221932115\n"
     ]
    },
    {
     "data": {
      "text/plain": [
       "(array([   0.,    0.,   29.,  182.,  815., 1659., 1737., 1246., 1023.,\n",
       "         763.,  467.,  590.,  392.,  351.,  269.,  273.,  247.,  203.,\n",
       "         157.,  138.,  127.,   85.,  114.,   99.,  147.,  140.,  129.,\n",
       "          81.,   27.,    0.,    0.,    0.]),\n",
       " array([ 25.     ,  28.90625,  32.8125 ,  36.71875,  40.625  ,  44.53125,\n",
       "         48.4375 ,  52.34375,  56.25   ,  60.15625,  64.0625 ,  67.96875,\n",
       "         71.875  ,  75.78125,  79.6875 ,  83.59375,  87.5    ,  91.40625,\n",
       "         95.3125 ,  99.21875, 103.125  , 107.03125, 110.9375 , 114.84375,\n",
       "        118.75   , 122.65625, 126.5625 , 130.46875, 134.375  , 138.28125,\n",
       "        142.1875 , 146.09375, 150.     ]),\n",
       " <BarContainer object of 32 artists>)"
      ]
     },
     "execution_count": 21,
     "metadata": {},
     "output_type": "execute_result"
    },
    {
     "data": {
      "image/png": "[encoded data removed]",
      "text/plain": [
       "<Figure size 432x288 with 1 Axes>"
      ]
     },
     "metadata": {
      "needs_background": "light"
     },
     "output_type": "display_data"
    }
   ],
   "source": [
    "with open(\"../output/finetune-proposal-large_20220811031324/test.hypo-10.tokenized\", \"r\") as f:\n",
    "    oracle = f.readlines()\n",
    "oracle = [s[:-1] for s in oracle]\n",
    "oracle_length = np.array([len(s.split(\" \")) for s in oracle])\n",
    "print(oracle_length[0])\n",
    "print(oracle_length.mean())\n",
    "plt.hist(oracle_length, bins=32, range=(25, 150))"
   ]
  },
  {
   "cell_type": "code",
   "execution_count": 22,
   "id": "06968a54-2b1b-46ee-9e18-982e4004b35e",
   "metadata": {},
   "outputs": [
    {
     "name": "stdout",
     "output_type": "stream",
     "text": [
      "73\n",
      "81.4266318537859\n"
     ]
    },
    {
     "data": {
      "text/plain": [
       "(array([  0.,   0.,   1.,   5.,  48., 235., 474., 659., 778., 803., 612.,\n",
       "        853., 886., 899., 796., 666., 522., 430., 333., 317., 292., 193.,\n",
       "        238., 259., 300., 355., 317., 168.,  51.,   0.,   0.,   0.]),\n",
       " array([ 25.     ,  28.90625,  32.8125 ,  36.71875,  40.625  ,  44.53125,\n",
       "         48.4375 ,  52.34375,  56.25   ,  60.15625,  64.0625 ,  67.96875,\n",
       "         71.875  ,  75.78125,  79.6875 ,  83.59375,  87.5    ,  91.40625,\n",
       "         95.3125 ,  99.21875, 103.125  , 107.03125, 110.9375 , 114.84375,\n",
       "        118.75   , 122.65625, 126.5625 , 130.46875, 134.375  , 138.28125,\n",
       "        142.1875 , 146.09375, 150.     ]),\n",
       " <BarContainer object of 32 artists>)"
      ]
     },
     "execution_count": 22,
     "metadata": {},
     "output_type": "execute_result"
    },
    {
     "data": {
      "image/png": "[encoded data removed]",
      "text/plain": [
       "<Figure size 432x288 with 1 Axes>"
      ]
     },
     "metadata": {
      "needs_background": "light"
     },
     "output_type": "display_data"
    }
   ],
   "source": [
    "with open(\"../output/finetune-proposal-large_20220811031324/test.hypo+10.tokenized\", \"r\") as f:\n",
    "    oracle = f.readlines()\n",
    "oracle = [s[:-1] for s in oracle]\n",
    "oracle_length = np.array([len(s.split(\" \")) for s in oracle])\n",
    "print(oracle_length[0])\n",
    "print(oracle_length.mean())\n",
    "plt.hist(oracle_length, bins=32, range=(25, 150))"
   ]
  },
  {
   "cell_type": "code",
   "execution_count": 23,
   "id": "e8fb83ab-207e-4462-a432-d12d96b7e96a",
   "metadata": {},
   "outputs": [
    {
     "name": "stdout",
     "output_type": "stream",
     "text": [
      "47\n",
      "57.68529155787641\n"
     ]
    },
    {
     "data": {
      "text/plain": [
       "(array([1.000e+00, 9.000e+00, 7.900e+01, 5.090e+02, 1.620e+03, 2.576e+03,\n",
       "        2.010e+03, 1.054e+03, 5.790e+02, 4.400e+02, 2.820e+02, 3.310e+02,\n",
       "        2.810e+02, 2.480e+02, 1.840e+02, 1.960e+02, 1.460e+02, 1.350e+02,\n",
       "        1.100e+02, 9.700e+01, 7.100e+01, 5.900e+01, 7.100e+01, 7.800e+01,\n",
       "        9.600e+01, 9.100e+01, 6.900e+01, 5.500e+01, 1.300e+01, 0.000e+00,\n",
       "        0.000e+00, 0.000e+00]),\n",
       " array([ 25.     ,  28.90625,  32.8125 ,  36.71875,  40.625  ,  44.53125,\n",
       "         48.4375 ,  52.34375,  56.25   ,  60.15625,  64.0625 ,  67.96875,\n",
       "         71.875  ,  75.78125,  79.6875 ,  83.59375,  87.5    ,  91.40625,\n",
       "         95.3125 ,  99.21875, 103.125  , 107.03125, 110.9375 , 114.84375,\n",
       "        118.75   , 122.65625, 126.5625 , 130.46875, 134.375  , 138.28125,\n",
       "        142.1875 , 146.09375, 150.     ]),\n",
       " <BarContainer object of 32 artists>)"
      ]
     },
     "execution_count": 23,
     "metadata": {},
     "output_type": "execute_result"
    },
    {
     "data": {
      "image/png": "[encoded data removed]",
      "text/plain": [
       "<Figure size 432x288 with 1 Axes>"
      ]
     },
     "metadata": {
      "needs_background": "light"
     },
     "output_type": "display_data"
    }
   ],
   "source": [
    "with open(\"../output/finetune-proposal-large_20220811031324/test.hypo-20.tokenized\", \"r\") as f:\n",
    "    oracle = f.readlines()\n",
    "oracle = [s[:-1] for s in oracle]\n",
    "oracle_length = np.array([len(s.split(\" \")) for s in oracle])\n",
    "print(oracle_length[0])\n",
    "print(oracle_length.mean())\n",
    "plt.hist(oracle_length, bins=32, range=(25, 150))"
   ]
  },
  {
   "cell_type": "code",
   "execution_count": 24,
   "id": "0e35ab35-9ef1-4e77-a867-69214b6f609f",
   "metadata": {},
   "outputs": [
    {
     "name": "stdout",
     "output_type": "stream",
     "text": [
      "83\n",
      "90.3023498694517\n"
     ]
    },
    {
     "data": {
      "text/plain": [
       "(array([  0.,   0.,   0.,   2.,  10.,  52., 136., 222., 374., 517., 481.,\n",
       "        773., 804., 719., 731., 822., 812., 716., 636., 496., 442., 269.,\n",
       "        350., 407., 440., 541., 427., 259.,  52.,   0.,   0.,   0.]),\n",
       " array([ 25.     ,  28.90625,  32.8125 ,  36.71875,  40.625  ,  44.53125,\n",
       "         48.4375 ,  52.34375,  56.25   ,  60.15625,  64.0625 ,  67.96875,\n",
       "         71.875  ,  75.78125,  79.6875 ,  83.59375,  87.5    ,  91.40625,\n",
       "         95.3125 ,  99.21875, 103.125  , 107.03125, 110.9375 , 114.84375,\n",
       "        118.75   , 122.65625, 126.5625 , 130.46875, 134.375  , 138.28125,\n",
       "        142.1875 , 146.09375, 150.     ]),\n",
       " <BarContainer object of 32 artists>)"
      ]
     },
     "execution_count": 24,
     "metadata": {},
     "output_type": "execute_result"
    },
    {
     "data": {
      "image/png": "[encoded data removed]",
      "text/plain": [
       "<Figure size 432x288 with 1 Axes>"
      ]
     },
     "metadata": {
      "needs_background": "light"
     },
     "output_type": "display_data"
    }
   ],
   "source": [
    "with open(\"../output/finetune-proposal-large_20220811031324/test.hypo+20.tokenized\", \"r\") as f:\n",
    "    oracle = f.readlines()\n",
    "oracle = [s[:-1] for s in oracle]\n",
    "oracle_length = np.array([len(s.split(\" \")) for s in oracle])\n",
    "print(oracle_length[0])\n",
    "print(oracle_length.mean())\n",
    "plt.hist(oracle_length, bins=32, range=(25, 150))"
   ]
  },
  {
   "cell_type": "code",
   "execution_count": 25,
   "id": "95ed4bd1-5cb5-4b3e-a861-d144763eb37d",
   "metadata": {},
   "outputs": [
    {
     "name": "stdout",
     "output_type": "stream",
     "text": [
      "71\n",
      "72.24046997389034\n"
     ]
    },
    {
     "data": {
      "text/plain": [
       "(array([0.000e+00, 0.000e+00, 0.000e+00, 0.000e+00, 2.000e+00, 2.800e+01,\n",
       "        4.000e+01, 1.130e+02, 2.890e+02, 7.620e+02, 1.242e+03, 2.674e+03,\n",
       "        3.110e+03, 1.982e+03, 7.530e+02, 2.450e+02, 1.100e+02, 5.300e+01,\n",
       "        3.100e+01, 2.700e+01, 1.800e+01, 4.000e+00, 3.000e+00, 1.000e+00,\n",
       "        3.000e+00, 0.000e+00, 0.000e+00, 0.000e+00, 0.000e+00, 0.000e+00,\n",
       "        0.000e+00, 0.000e+00]),\n",
       " array([ 25.     ,  28.90625,  32.8125 ,  36.71875,  40.625  ,  44.53125,\n",
       "         48.4375 ,  52.34375,  56.25   ,  60.15625,  64.0625 ,  67.96875,\n",
       "         71.875  ,  75.78125,  79.6875 ,  83.59375,  87.5    ,  91.40625,\n",
       "         95.3125 ,  99.21875, 103.125  , 107.03125, 110.9375 , 114.84375,\n",
       "        118.75   , 122.65625, 126.5625 , 130.46875, 134.375  , 138.28125,\n",
       "        142.1875 , 146.09375, 150.     ]),\n",
       " <BarContainer object of 32 artists>)"
      ]
     },
     "execution_count": 25,
     "metadata": {},
     "output_type": "execute_result"
    },
    {
     "data": {
      "image/png": "[encoded data removed]",
      "text/plain": [
       "<Figure size 432x288 with 1 Axes>"
      ]
     },
     "metadata": {
      "needs_background": "light"
     },
     "output_type": "display_data"
    }
   ],
   "source": [
    "with open(\"../output/finetune-proposal-large_20220811031324/test.hypo=67.tokenized\", \"r\") as f:\n",
    "    oracle = f.readlines()\n",
    "oracle = [s[:-1] for s in oracle]\n",
    "oracle_length = np.array([len(s.split(\" \")) for s in oracle])\n",
    "print(oracle_length[0])\n",
    "print(oracle_length.mean())\n",
    "plt.hist(oracle_length, bins=32, range=(25, 150))"
   ]
  },
  {
   "cell_type": "code",
   "execution_count": 26,
   "id": "769e5ff6-2c1e-4c6d-a516-ada70e7419c2",
   "metadata": {},
   "outputs": [
    {
     "name": "stdout",
     "output_type": "stream",
     "text": [
      "65\n",
      "66.5485639686684\n"
     ]
    },
    {
     "data": {
      "text/plain": [
       "(array([ 141.,  177.,  205.,  412.,  818.,  890.,  808.,  816., 1053.,\n",
       "        1071.,  679.,  707.,  576.,  502.,  397.,  316.,  278.,  260.,\n",
       "         219.,  174.,  167.,  102.,   81.,  105.,   95.,   61.,   50.,\n",
       "          50.,   40.,   29.,   15.,   28.]),\n",
       " array([ 25.     ,  28.90625,  32.8125 ,  36.71875,  40.625  ,  44.53125,\n",
       "         48.4375 ,  52.34375,  56.25   ,  60.15625,  64.0625 ,  67.96875,\n",
       "         71.875  ,  75.78125,  79.6875 ,  83.59375,  87.5    ,  91.40625,\n",
       "         95.3125 ,  99.21875, 103.125  , 107.03125, 110.9375 , 114.84375,\n",
       "        118.75   , 122.65625, 126.5625 , 130.46875, 134.375  , 138.28125,\n",
       "        142.1875 , 146.09375, 150.     ]),\n",
       " <BarContainer object of 32 artists>)"
      ]
     },
     "execution_count": 26,
     "metadata": {},
     "output_type": "execute_result"
    },
    {
     "data": {
      "image/png": "[encoded data removed]",
      "text/plain": [
       "<Figure size 432x288 with 1 Axes>"
      ]
     },
     "metadata": {
      "needs_background": "light"
     },
     "output_type": "display_data"
    }
   ],
   "source": [
    "with open(\"../data/desired_lengths/test.oracle\", \"r\") as f:\n",
    "    oracle_length = f.readlines()\n",
    "oracle_length = np.array([int(s[:-1]) for s in oracle_length])\n",
    "print(oracle_length[0])\n",
    "print(oracle_length.mean())\n",
    "plt.hist(oracle_length, bins=32, range=(25, 150))"
   ]
  },
  {
   "cell_type": "code",
   "execution_count": null,
   "id": "3d19e1a5-1dd2-407d-81da-865aa01e1e87",
   "metadata": {},
   "outputs": [],
   "source": []
  },
  {
   "cell_type": "code",
   "execution_count": 8,
   "id": "1ea4df9f-5701-4d2a-a076-f4d40e421436",
   "metadata": {},
   "outputs": [],
   "source": [
    "with open(\"../data/desired_lengths/test.oracle=67\", \"w\") as f:\n",
    "    f.writelines([\"67\\n\" for s in oracle_length])\n"
   ]
  },
  {
   "cell_type": "code",
   "execution_count": null,
   "id": "56067c0d-a407-4e96-b879-3c829d535b1d",
   "metadata": {},
   "outputs": [],
   "source": []
  }
 ],
 "metadata": {
  "kernelspec": {
   "display_name": "Python 3 (ipykernel)",
   "language": "python",
   "name": "python3"
  },
  "language_info": {
   "codemirror_mode": {
    "name": "ipython",
    "version": 3
   },
   "file_extension": ".py",
   "mimetype": "text/x-python",
   "name": "python",
   "nbconvert_exporter": "python",
   "pygments_lexer": "ipython3",
   "version": "3.8.13"
  }
 },
 "nbformat": 4,
 "nbformat_minor": 5
}
