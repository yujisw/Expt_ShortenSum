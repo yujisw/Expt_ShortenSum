{
 "cells": [
  {
   "cell_type": "code",
   "execution_count": 5,
   "id": "b88c5e77-1606-461a-a130-9695d8932ceb",
   "metadata": {},
   "outputs": [],
   "source": [
    "from ipywidgets import FloatProgress\n"
   ]
  },
  {
   "cell_type": "code",
   "execution_count": 6,
   "id": "f30aff36-54e8-4b77-9350-675e9b4143d7",
   "metadata": {},
   "outputs": [
    {
     "name": "stdout",
     "output_type": "stream",
     "text": [
      "torch version: 1.8.1+cu101\n",
      "cuda available: 4\n",
      "cuda current device: 0\n"
     ]
    }
   ],
   "source": [
    "import torch\n",
    "print(\"torch version:\", torch.__version__)\n",
    "print(\"cuda available:\", torch.cuda.device_count())\n",
    "print(\"cuda current device:\", torch.cuda.current_device())\n"
   ]
  },
  {
   "cell_type": "code",
   "execution_count": 7,
   "id": "9da35f58-c404-4ed5-8355-9ef68672f988",
   "metadata": {},
   "outputs": [
    {
     "name": "stdout",
     "output_type": "stream",
     "text": [
      "_CudaDeviceProperties(name='GeForce GTX 1080 Ti', major=6, minor=1, total_memory=11178MB, multi_processor_count=28)\n",
      "0.0 MiB\n",
      "0.0 MiB\n",
      "0.0 MiB\n",
      "_CudaDeviceProperties(name='GeForce GTX 1080 Ti', major=6, minor=1, total_memory=11178MB, multi_processor_count=28)\n",
      "0.0 MiB\n",
      "0.0 MiB\n",
      "0.0 MiB\n",
      "_CudaDeviceProperties(name='GeForce GTX 1080 Ti', major=6, minor=1, total_memory=11178MB, multi_processor_count=28)\n",
      "2357.198848 MiB\n",
      "2344.371712 MiB\n",
      "12.827136 MiB\n",
      "_CudaDeviceProperties(name='GeForce GT 710', major=3, minor=5, total_memory=1993MB, multi_processor_count=1)\n",
      "0.0 MiB\n",
      "0.0 MiB\n",
      "0.0 MiB\n"
     ]
    }
   ],
   "source": [
    "cuda_count = torch.cuda.device_count()\n",
    "for i in range(cuda_count):\n",
    "    print(torch.cuda.get_device_properties(i))\n",
    "    print(torch.cuda.memory_reserved(i)/1000000, \"MiB\")\n",
    "    print(torch.cuda.memory_allocated(i)/1000000, \"MiB\")\n",
    "    print((torch.cuda.memory_reserved(i)-torch.cuda.memory_allocated(i))/1000000, \"MiB\")\n"
   ]
  },
  {
   "cell_type": "code",
   "execution_count": 8,
   "id": "c48875b4-a6b2-4c40-b7b9-1192cafb5593",
   "metadata": {},
   "outputs": [],
   "source": [
    "device = 2\n"
   ]
  },
  {
   "cell_type": "code",
   "execution_count": 9,
   "id": "4f9f0eac-05ff-49db-8c56-10b446e6d7c8",
   "metadata": {},
   "outputs": [],
   "source": [
    "src_text = [\n",
    "    \"\"\" PG&E stated it scheduled the blackouts in response to forecasts for high winds amid dry conditions. The aim is to reduce the risk of wildfires. Nearly 800 thousand customers were scheduled to be affected by the shutoffs which were expected to last through at least midday tomorrow.\"\"\"\n",
    "    # \"\"\"(CNN)Wanted: film director, must be eager to shoot footage of golden lassos and invisible jets. CNN confirms that Michelle MacLaren is leaving the upcoming \"Wonder Woman\" movie (The Hollywood Reporter first broke the story). MacLaren was announced as director of the movie in November. CNN obtained a statement from Warner Bros. Pictures that says, \"Given creative differences, Warner Bros. and Michelle MacLaren have decided not to move forward with plans to develop and direct \\'Wonder Woman\\' together.\" (CNN and Warner Bros. Pictures are both owned by Time Warner.) The movie, starring Gal Gadot in the title role of the Amazon princess, is still set for release on June 23, 2017. It\\'s the first theatrical movie centering around the most popular female superhero. Gadot will appear beforehand in \"Batman v. Superman: Dawn of Justice,\" due out March 25, 2016. In the meantime, Warner will need to find someone new for the director\\'s chair.\"\"\"\n",
    "]\n"
   ]
  },
  {
   "cell_type": "code",
   "execution_count": 10,
   "id": "73611016-a8a4-4bad-9882-21b648c5f9d7",
   "metadata": {
    "tags": []
   },
   "outputs": [
    {
     "name": "stdout",
     "output_type": "stream",
     "text": [
      "28.8107\t54\t</s>\n",
      "27.0433\t53\t.\n",
      "26.2848\t37\t▁be\n",
      "19.3284\t42\ts\n",
      "18.7942\t2\tE\n",
      "15.0912\t29\t.\n",
      "14.5458\t7\t▁blackout\n",
      "11.8792\t33\t▁customers\n",
      "10.0990\t19\t.\n",
      "9.5212\t38\t▁affected\n",
      "9.4782\t24\t▁reduce\n",
      "7.9273\t4\t▁it\n",
      "7.7998\t15\t▁winds\n",
      "7.6458\t0\t▁PG\n",
      "7.3690\t28\t▁wildfires\n",
      "7.3298\t17\t▁dry\n",
      "7.2430\t1\t&\n",
      "6.9584\t25\t▁the\n",
      "6.9111\t40\t▁the\n",
      "6.7592\t6\t▁the\n",
      "6.7382\t41\t▁shutoff\n",
      "6.5729\t10\t▁response\n",
      "6.4962\t26\t▁risk\n",
      "6.2655\t51\t▁midday\n",
      "6.2544\t48\t▁through\n",
      "6.1635\t32\t▁thousand\n",
      "5.9423\t35\t▁scheduled\n",
      "5.9383\t31\t▁800\n",
      "5.8047\t18\t▁conditions\n",
      "5.7208\t21\t▁aim\n",
      "5.6878\t14\t▁high\n",
      "5.6273\t12\t▁forecasts\n",
      "5.0395\t47\t▁last\n",
      "5.0256\t52\t▁tomorrow\n",
      "4.8952\t44\t▁were\n",
      "4.7502\t11\t▁to\n",
      "4.3471\t8\ts\n",
      "4.2328\t13\t▁for\n",
      "4.1643\t22\t▁is\n",
      "4.1346\t45\t▁expected\n",
      "3.5453\t5\t▁scheduled\n",
      "3.5214\t30\t▁Nearly\n",
      "3.1741\t39\t▁by\n",
      "2.7442\t34\t▁were\n",
      "2.1745\t50\t▁least\n",
      "2.0587\t43\t▁which\n",
      "1.7573\t16\t▁amid\n",
      "1.6381\t3\t▁stated\n",
      "1.2800\t46\t▁to\n",
      "0.9427\t20\t▁The\n",
      "0.8546\t36\t▁to\n",
      "0.3840\t23\t▁to\n",
      "-0.2963\t27\t▁of\n",
      "-1.7442\t9\t▁in\n",
      "-2.4669\t49\t▁at\n"
     ]
    }
   ],
   "source": [
    "from transformers import PegasusForConditionalGeneration, PegasusTokenizer\n",
    "\n",
    "model_name = 'google/pegasus-xsum'\n",
    "tokenizer = PegasusTokenizer.from_pretrained(model_name)\n",
    "model = PegasusForConditionalGeneration.from_pretrained(model_name).to(device)\n",
    "\n",
    "batch = tokenizer(src_text, truncation=True, padding='longest', return_tensors=\"pt\").to(device)\n",
    "\n",
    "enc_out = model.model.encoder(**batch)\n",
    "\n",
    "cls_vec = enc_out[0][0][-1]\n",
    "token_len = len(enc_out[0][0])\n",
    "idx_product_list = []\n",
    "for i in range(token_len):\n",
    "    idx_product_list.append((i, torch.dot(cls_vec, enc_out[0][0][i]).item()))\n",
    "idx_product_list.sort(key = lambda x: x[1], reverse=True)\n",
    "for j, v in idx_product_list:\n",
    "    print(\"{:.4f}\\t{}\\t{}\".format(v, j, tokenizer.convert_ids_to_tokens(batch['input_ids'][0][j].item())))"
   ]
  },
  {
   "cell_type": "code",
   "execution_count": 18,
   "id": "b0ae4328-98b4-4177-8056-d3dca9d8feda",
   "metadata": {},
   "outputs": [
    {
     "name": "stdout",
     "output_type": "stream",
     "text": [
      "10.6616\t38\t▁affected\n",
      "10.4938\t29\t.\n",
      "10.3702\t17\t▁dry\n",
      "10.3474\t42\ts\n",
      "10.2204\t35\t▁scheduled\n",
      "10.0975\t19\t.\n",
      "10.0763\t48\t▁through\n",
      "9.9871\t51\t▁midday\n",
      "9.8039\t7\t▁blackout\n",
      "9.7272\t12\t▁forecasts\n",
      "9.6942\t45\t▁expected\n",
      "9.5551\t18\t▁conditions\n",
      "9.2620\t37\t▁be\n",
      "9.1937\t14\t▁high\n",
      "8.9845\t22\t▁is\n",
      "8.9196\t39\t▁by\n",
      "8.9139\t47\t▁last\n",
      "8.7090\t53\t.\n",
      "8.7077\t15\t▁winds\n",
      "8.5899\t10\t▁response\n",
      "8.4092\t26\t▁risk\n",
      "8.3601\t52\t▁tomorrow\n",
      "8.3283\t28\t▁wildfires\n",
      "8.3161\t31\t▁800\n",
      "8.2324\t2\tE\n",
      "8.1381\t8\ts\n",
      "7.9391\t5\t▁scheduled\n",
      "7.9051\t21\t▁aim\n",
      "7.8567\t41\t▁shutoff\n",
      "7.7405\t33\t▁customers\n",
      "7.6190\t32\t▁thousand\n",
      "7.5393\t24\t▁reduce\n",
      "7.5040\t1\t&\n",
      "7.3920\t40\t▁the\n",
      "7.0216\t54\t</s>\n",
      "6.9294\t25\t▁the\n",
      "6.8644\t34\t▁were\n",
      "6.8570\t6\t▁the\n",
      "6.6960\t4\t▁it\n",
      "6.6090\t0\t▁PG\n",
      "6.5003\t44\t▁were\n",
      "6.4019\t30\t▁Nearly\n",
      "5.6822\t11\t▁to\n",
      "5.1502\t13\t▁for\n",
      "5.0386\t43\t▁which\n",
      "4.9974\t3\t▁stated\n",
      "3.2730\t50\t▁least\n",
      "3.0036\t46\t▁to\n",
      "2.7130\t16\t▁amid\n",
      "2.5538\t36\t▁to\n",
      "2.0470\t23\t▁to\n",
      "1.5411\t20\t▁The\n",
      "0.7791\t9\t▁in\n",
      "-0.1784\t27\t▁of\n",
      "-3.4650\t49\t▁at\n"
     ]
    }
   ],
   "source": [
    "mean_vec = enc_out[0][0].mean(axis=0)\n",
    "token_len = len(enc_out[0][0])\n",
    "idx_product_list = []\n",
    "for i in range(token_len):\n",
    "    idx_product_list.append((i, torch.dot(mean_vec, enc_out[0][0][i]).item()))\n",
    "idx_product_list.sort(key = lambda x: x[1], reverse=True)\n",
    "for j, v in idx_product_list:\n",
    "    print(\"{:.4f}\\t{}\\t{}\".format(v, j, tokenizer.convert_ids_to_tokens(batch['input_ids'][0][j].item())))"
   ]
  },
  {
   "cell_type": "code",
   "execution_count": 6,
   "id": "d7899e77-fcad-44ff-be87-20dab9f37e0d",
   "metadata": {
    "tags": []
   },
   "outputs": [
    {
     "name": "stdout",
     "output_type": "stream",
     "text": [
      "2.3107\t<s>\n",
      "0.5816\t.\n",
      "0.4279\t</s>\n",
      "0.2029\t.\n",
      "0.0860\t.\n",
      "-0.5289\tĠthe\n",
      "-0.8352\tĠthe\n",
      "-1.2149\tĠcustomers\n",
      "-1.4052\tĠwildfires\n",
      "-1.6172\tĠPG\n",
      "-1.7019\t&\n",
      "-1.7182\tĠThe\n",
      "-1.7678\tĠtomorrow\n",
      "-1.7788\tĠwhich\n",
      "-1.8951\tĠstated\n",
      "-1.9752\tE\n",
      "-2.0115\tĠshut\n",
      "-2.0888\tĠblack\n",
      "-2.1348\toffs\n",
      "-2.1780\touts\n",
      "-2.1870\tĠwinds\n",
      "-2.2220\tĠthe\n",
      "-2.3484\tĠit\n",
      "-2.3862\tĠamid\n",
      "-2.4060\tĠwere\n",
      "-2.4280\tĠthousand\n",
      "-2.4905\tĠconditions\n",
      "-2.4916\tĠNearly\n",
      "-2.5201\tĠis\n",
      "-2.5815\tĠdry\n",
      "-2.5861\tĠscheduled\n",
      "-2.6492\tĠaffected\n",
      "-2.6599\tĠmidday\n",
      "-2.6624\tĠaim\n",
      "-2.6733\tĠof\n",
      "-2.7209\tĠby\n",
      "-2.7477\tĠto\n",
      "-2.7577\tĠreduce\n",
      "-2.7892\tĠrisk\n",
      "-2.7982\tĠin\n",
      "-2.8137\tĠwere\n",
      "-2.8759\tĠresponse\n",
      "-2.8783\tĠ800\n",
      "-2.8838\tĠto\n",
      "-2.8966\tĠforecasts\n",
      "-2.9695\tĠthrough\n",
      "-3.0323\tĠfor\n",
      "-3.0811\tĠlast\n",
      "-3.0820\tĠleast\n",
      "-3.0849\tĠat\n",
      "-3.1023\tĠscheduled\n",
      "-3.1732\tĠhigh\n",
      "-3.3068\tĠexpected\n",
      "-3.4139\tĠto\n",
      "-3.5065\tĠbe\n",
      "-3.5536\tĠto\n"
     ]
    }
   ],
   "source": [
    "from transformers import BartTokenizer, BartModel\n",
    "\n",
    "model_name = 'facebook/bart-base'\n",
    "tokenizer = BartTokenizer.from_pretrained(model_name)\n",
    "model = BartModel.from_pretrained(model_name).to(device)\n",
    "\n",
    "batch = tokenizer(src_text, truncation=True, padding='longest', return_tensors=\"pt\").to(device)\n",
    "\n",
    "enc_out = model.encoder(**batch)\n",
    "\n",
    "cls_vec = enc_out[0][0][0]\n",
    "token_len = len(enc_out[0][0])\n",
    "idx_product_list = []\n",
    "for i in range(token_len):\n",
    "    idx_product_list.append((i, torch.dot(cls_vec, enc_out[0][0][i]).item()))\n",
    "idx_product_list.sort(key = lambda x: x[1], reverse=True)\n",
    "for j, v in idx_product_list:\n",
    "    print(\"{:.4f}\\t{}\".format(v, tokenizer.convert_ids_to_tokens(batch['input_ids'][0][j].item())))"
   ]
  },
  {
   "cell_type": "code",
   "execution_count": 6,
   "id": "6a4f8295-20e8-4d99-afe7-f34c878de4ea",
   "metadata": {
    "tags": []
   },
   "outputs": [
    {
     "name": "stdout",
     "output_type": "stream",
     "text": [
      "36.7412\t</s>\n",
      "36.3622\t'\n",
      "36.2978\t▁to\n",
      "36.1380\t▁to\n",
      "36.0997\t▁to\n",
      "36.0924\t▁the\n",
      "36.0143\t▁the\n",
      "35.4002\t'\n",
      "34.9737\t▁to\n",
      "9.1097\t▁In\n",
      "7.6345\t▁25,\n",
      "7.6220\t.\n",
      "7.2346\t▁23,\n",
      "6.5750\t.\n",
      "6.5250\tdot\n",
      "6.4321\t▁The\n",
      "6.4048\t)\n",
      "6.3544\t.\"\n",
      "6.2566\t▁will\n",
      "6.1618\t▁that\n",
      "6.0490\t▁for\n",
      "5.8865\t▁with\n",
      "5.8709\t▁is\n",
      "5.8643\t▁superhero\n",
      "5.8603\t▁are\n",
      "5.8460\t▁Justice\n",
      "5.8273\t▁(\n",
      "5.7123\t▁will\n",
      "5.6116\t▁Bros\n",
      "5.5596\t▁have\n",
      "5.5450\t▁in\n",
      "5.4919\t▁in\n",
      "5.4499\t▁Dawn\n",
      "5.4226\t▁title\n",
      "5.4072\t▁v\n",
      "5.3927\t▁due\n",
      "5.3857\t▁and\n",
      "5.3665\t▁by\n",
      "5.3244\t▁role\n",
      "5.3039\tdot\n",
      "5.2910\t▁the\n",
      "5.2752\t▁Superman\n",
      "5.1884\t▁the\n",
      "5.1255\t▁out\n",
      "5.1174\t▁2016.\n",
      "5.1040\t▁the\n",
      "5.0763\t▁theatrical\n",
      "5.0401\t▁June\n",
      "5.0334\tren\n",
      "5.0209\t▁2017.\n",
      "4.9435\t▁centering\n",
      "4.9184\tLa\n",
      "4.9105\t).\n",
      "4.8763\t▁the\n",
      "4.8577\t▁Ga\n",
      "4.8201\t▁princess\n",
      "4.7930\t'\n",
      "4.7732\t▁story\n",
      "4.7570\t▁need\n",
      "4.7336\t▁Pictures\n",
      "4.7048\t:\n",
      "4.6988\t▁It\n",
      "4.6956\t▁of\n",
      "4.6586\tBatman\n",
      "4.6561\t▁Mac\n",
      "4.6430\t▁meantime\n",
      "4.6003\t▁Bros\n",
      "4.5873\t▁Gal\n",
      "4.5719\t▁still\n",
      "4.5643\t,\n",
      "4.5567\t▁March\n",
      "4.5389\t▁forward\n",
      "4.4981\t,\n",
      "4.4974\t▁Warner\n",
      "4.4894\t▁release\n",
      "4.4610\t▁from\n",
      "4.4480\t▁set\n",
      "4.4469\t▁Bros\n",
      "4.4324\t▁a\n",
      "4.3841\t▁both\n",
      "4.3525\t▁movie\n",
      "4.3345\t▁around\n",
      "4.3250\t▁movie\n",
      "4.3057\t▁Ga\n",
      "4.3004\t▁Mac\n",
      "4.2949\t▁broke\n",
      "4.2844\t▁and\n",
      "4.2800\ts\n",
      "4.2491\tLa\n",
      "4.1741\t▁Warner\n",
      "4.1676\t▁owned\n",
      "4.1562\t▁beforehand\n",
      "4.1439\t.\n",
      "4.1434\t▁Amazon\n",
      "4.1406\t▁that\n",
      "4.0965\t▁November\n",
      "4.0720\t▁appear\n",
      "4.0564\t▁as\n",
      "4.0348\t▁female\n",
      "3.9993\ts\n",
      "3.9747\t▁Warner\n",
      "3.9549\t▁movie\n",
      "3.9228\t▁new\n",
      "3.9183\t▁not\n",
      "3.9171\t,\n",
      "3.9122\t▁Pictures\n",
      "3.9026\t▁decided\n",
      "3.8998\t▁Reporter\n",
      "3.8076\t▁lasso\n",
      "3.7801\t▁was\n",
      "3.7754\t▁Mac\n",
      "3.7450\tren\n",
      "3.6999\t▁director\n",
      "3.6854\t▁confirms\n",
      "3.6683\t▁Michelle\n",
      "3.6628\t▁the\n",
      "3.6607\t)\n",
      "3.6437\tLa\n",
      "3.6415\t▁and\n",
      "3.6238\t▁says\n",
      "3.6048\t▁starring\n",
      "3.5912\tren\n",
      "3.5730\t▁is\n",
      "3.5298\t▁\"\n",
      "3.5254\tCNN\n",
      "3.4700\t▁announced\n",
      "3.4697\t▁'\n",
      "3.4647\ts\n",
      "3.3579\t▁chair\n",
      "3.3298\t▁plans\n",
      "3.3026\t,\n",
      "3.3003\t▁jets\n",
      "3.2890\t▁Woman\n",
      "3.2617\t▁together\n",
      "3.2515\t▁be\n",
      "3.2388\t▁obtained\n",
      "3.2118\t▁for\n",
      "3.1844\t▁statement\n",
      "3.1658\t,\"\n",
      "3.1630\t▁invisible\n",
      "3.1372\tWanted\n",
      "3.0893\t▁someone\n",
      "3.0804\t▁find\n",
      "3.0543\t▁on\n",
      "3.0523\t▁Hollywood\n",
      "3.0382\t▁popular\n",
      "3.0313\t▁Warner\n",
      "3.0168\t▁(\n",
      "3.0103\t▁most\n",
      "2.9788\t▁eager\n",
      "2.9649\t▁first\n",
      "2.9570\t▁movie\n",
      "2.9411\t\"\n",
      "2.9072\t▁move\n",
      "2.9023\t▁Woman\n",
      "2.8924\t▁Warner\n",
      "2.8484\t▁\"\n",
      "2.7599\t▁film\n",
      "2.6997\t▁first\n",
      "2.6626\tThe\n",
      "2.6537\t▁in\n",
      "2.6373\t▁must\n",
      "2.6139\t▁develop\n",
      "2.5582\t.\n",
      "2.5437\t▁creative\n",
      "2.5221\t▁director\n",
      "2.5071\t▁Michelle\n",
      "2.4822\tWonder\n",
      "2.4070\t,\n",
      "2.3712\t▁director\n",
      "2.3351\t▁Time\n",
      "2.2946\tWonder\n",
      "2.2863\t.\n",
      "2.2722\t▁golden\n",
      "2.2500\t▁differences\n",
      "2.2327\t▁CNN\n",
      "2.2092\t▁CNN\n",
      "2.1228\tGiven\n",
      "2.1204\t▁(\n",
      "2.0686\t.\n",
      "2.0169\t▁upcoming\n",
      "1.9796\t▁of\n",
      "1.9182\t▁and\n",
      "1.6511\t▁\"\n",
      "1.6415\t▁footage\n",
      "1.6306\t▁direct\n",
      "1.6089\t,\n",
      "1.4837\t▁leaving\n",
      "1.2321\t▁shoot\n",
      "1.1045\t.\n",
      "0.9676\tCNN\n",
      "0.8649\t.\n",
      "0.8344\t:\n",
      "0.7011\t▁of\n",
      "0.6859\t▁of\n",
      "-3.2958\t▁the\n",
      "-3.3492\t.\n",
      "-3.6040\t▁the\n"
     ]
    }
   ],
   "source": [
    "from transformers import PegasusForConditionalGeneration, PegasusTokenizer\n",
    "\n",
    "model_name = 'google/pegasus-large'\n",
    "tokenizer = PegasusTokenizer.from_pretrained(model_name)\n",
    "model = PegasusForConditionalGeneration.from_pretrained(model_name).to(device)\n",
    "\n",
    "batch = tokenizer(src_text, truncation=True, padding='longest', return_tensors=\"pt\").to(device)\n",
    "\n",
    "enc_out = model.model.encoder(**batch)\n",
    "\n",
    "cls_vec = enc_out[0][0][-1]\n",
    "token_len = len(enc_out[0][0])\n",
    "idx_product_list = []\n",
    "for i in range(token_len):\n",
    "    idx_product_list.append((i, torch.dot(cls_vec, enc_out[0][0][i]).item()))\n",
    "idx_product_list.sort(key = lambda x: x[1], reverse=True)\n",
    "for j, v in idx_product_list:\n",
    "    print(\"{:.4f}\\t{}\".format(v, tokenizer.convert_ids_to_tokens(batch['input_ids'][0][j].item())))"
   ]
  },
  {
   "cell_type": "code",
   "execution_count": 6,
   "id": "28c1cdd3-5107-4eb2-9d7e-0af16cf7e084",
   "metadata": {
    "collapsed": true,
    "jupyter": {
     "outputs_hidden": true
    },
    "tags": []
   },
   "outputs": [
    {
     "name": "stdout",
     "output_type": "stream",
     "text": [
      "['acronym_identification', 'ade_corpus_v2', 'adversarial_qa', 'aeslc', 'afrikaans_ner_corpus', 'ag_news', 'ai2_arc', 'air_dialogue', 'ajgt_twitter_ar', 'allegro_reviews', 'allocine', 'alt', 'amazon_polarity', 'amazon_reviews_multi', 'amazon_us_reviews', 'ambig_qa', 'ami', 'amttl', 'anli', 'app_reviews', 'aqua_rat', 'aquamuse', 'ar_cov19', 'ar_res_reviews', 'ar_sarcasm', 'arabic_billion_words', 'arabic_pos_dialect', 'arabic_speech_corpus', 'arcd', 'arsentd_lev', 'art', 'arxiv_dataset', 'ascent_kb', 'aslg_pc12', 'asnq', 'asset', 'assin', 'assin2', 'atomic', 'autshumato', 'babi_qa', 'banking77', 'bbaw_egyptian', 'bbc_hindi_nli', 'bc2gm_corpus', 'beans', 'best2009', 'bianet', 'bible_para', 'big_patent', 'billsum', 'bing_coronavirus_query_set', 'biomrc', 'biosses', 'blended_skill_talk', 'blimp', 'blog_authorship_corpus', 'bn_hate_speech', 'bookcorpus', 'bookcorpusopen', 'boolq', 'bprec', 'break_data', 'brwac', 'bsd_ja_en', 'bswac', 'c3', 'c4', 'cail2018', 'caner', 'capes', 'casino', 'catalonia_independence', 'cats_vs_dogs', 'cawac', 'cbt', 'cc100', 'cc_news', 'ccaligned_multilingual', 'cdsc', 'cdt', 'cedr', 'cfq', 'chr_en', 'cifar10', 'cifar100', 'circa', 'civil_comments', 'clickbait_news_bg', 'climate_fever', 'clinc_oos', 'clue', 'cmrc2018', 'cnn_dailymail', 'coached_conv_pref', 'coarse_discourse', 'codah', 'code_search_net', 'code_x_glue_cc_clone_detection_big_clone_bench', 'code_x_glue_cc_clone_detection_poj104', 'code_x_glue_cc_cloze_testing_all', 'code_x_glue_cc_cloze_testing_maxmin', 'code_x_glue_cc_code_completion_line', 'code_x_glue_cc_code_completion_token', 'code_x_glue_cc_code_refinement', 'code_x_glue_cc_code_to_code_trans', 'code_x_glue_cc_defect_detection', 'code_x_glue_ct_code_to_text', 'code_x_glue_tc_nl_code_search_adv', 'code_x_glue_tc_text_to_code', 'code_x_glue_tt_text_to_text', 'com_qa', 'common_gen', 'common_language', 'common_voice', 'commonsense_qa', 'competition_math', 'compguesswhat', 'conceptnet5', 'conll2000', 'conll2002', 'conll2003', 'conllpp', 'conv_ai', 'conv_ai_2', 'conv_ai_3', 'conv_questions', 'coqa', 'cord19', 'cornell_movie_dialog', 'cos_e', 'cosmos_qa', 'counter', 'covid_qa_castorini', 'covid_qa_deepset', 'covid_qa_ucsd', 'covid_tweets_japanese', 'covost2', 'craigslist_bargains', 'crawl_domain', 'crd3', 'crime_and_punish', 'crows_pairs', 'cryptonite', 'cs_restaurants', 'cuad', 'curiosity_dialogs', 'daily_dialog', 'dane', 'danish_political_comments', 'dart', 'datacommons_factcheck', 'dbpedia_14', 'dbrd', 'deal_or_no_dialog', 'definite_pronoun_resolution', 'dengue_filipino', 'dialog_re', 'diplomacy_detection', 'disaster_response_messages', 'discofuse', 'discovery', 'disfl_qa', 'doc2dial', 'docred', 'doqa', 'dream', 'drop', 'duorc', 'dutch_social', 'dyk', 'e2e_nlg', 'e2e_nlg_cleaned', 'ecb', 'ecthr_cases', 'eduge', 'ehealth_kd', 'eitb_parcc', 'eli5', 'emea', 'emo', 'emotion', 'emotone_ar', 'empathetic_dialogues', 'enriched_web_nlg', 'eraser_multi_rc', 'esnli', 'eth_py150_open', 'ethos', 'eu_regulatory_ir', 'eurlex', 'euronews', 'europa_eac_tm', 'europa_ecdc_tm', 'europarl_bilingual', 'event2Mind', 'evidence_infer_treatment', 'exams', 'factckbr', 'fake_news_english', 'fake_news_filipino', 'farsi_news', 'fashion_mnist', 'fever', 'few_rel', 'financial_phrasebank', 'finer', 'flores', 'flue', 'food101', 'fquad', 'freebase_qa', 'gap', 'gem', 'generated_reviews_enth', 'generics_kb', 'german_legal_entity_recognition', 'germaner', 'germeval_14', 'giga_fren', 'gigaword', 'glucose', 'glue', 'gnad10', 'go_emotions', 'gooaq', 'google_wellformed_query', 'grail_qa', 'great_code', 'greek_legal_code', 'guardian_authorship', 'gutenberg_time', 'hans', 'hansards', 'hard', 'harem', 'has_part', 'hate_offensive', 'hate_speech18', 'hate_speech_filipino', 'hate_speech_offensive', 'hate_speech_pl', 'hate_speech_portuguese', 'hatexplain', 'hausa_voa_ner', 'hausa_voa_topics', 'hda_nli_hindi', 'head_qa', 'health_fact', 'hebrew_projectbenyehuda', 'hebrew_sentiment', 'hebrew_this_world', 'hellaswag', 'hendrycks_test', 'hind_encorp', 'hindi_discourse', 'hippocorpus', 'hkcancor', 'hlgd', 'hope_edi', 'hotpot_qa', 'hover', 'hrenwac_para', 'hrwac', 'humicroedit', 'hybrid_qa', 'hyperpartisan_news_detection', 'iapp_wiki_qa_squad', 'id_clickbait', 'id_liputan6', 'id_nergrit_corpus', 'id_newspapers_2018', 'id_panl_bppt', 'id_puisi', 'igbo_english_machine_translation', 'igbo_monolingual', 'igbo_ner', 'ilist', 'imdb', 'imdb_urdu_reviews', 'imppres', 'indic_glue', 'indonlu', 'inquisitive_qg', 'interpress_news_category_tr', 'interpress_news_category_tr_lite', 'irc_disentangle', 'isixhosa_ner_corpus', 'isizulu_ner_corpus', 'iwslt2017', 'jeopardy', 'jfleg', 'jigsaw_toxicity_pred', 'jigsaw_unintended_bias', 'jnlpba', 'journalists_questions', 'kan_hope', 'kannada_news', 'kd_conv', 'kde4', 'kelm', 'kilt_tasks', 'kilt_wikipedia', 'kinnews_kirnews', 'klue', 'kor_3i4k', 'kor_hate', 'kor_ner', 'kor_nli', 'kor_nlu', 'kor_qpair', 'kor_sae', 'kor_sarcasm', 'labr', 'lama', 'lambada', 'large_spanish_corpus', 'laroseda', 'lc_quad', 'lener_br', 'lex_glue', 'liar', 'librispeech_asr', 'librispeech_lm', 'limit', 'lince', 'linnaeus', 'liveqa', 'lj_speech', 'lm1b', 'lst20', 'm_lama', 'mac_morpho', 'makhzan', 'masakhaner', 'math_dataset', 'math_qa', 'matinf', 'mbpp', 'mc4', 'mc_taco', 'md_gender_bias', 'mdd', 'med_hop', 'medal', 'medical_dialog', 'medical_questions_pairs', 'menyo20k_mt', 'meta_woz', 'metooma', 'metrec', 'miam', 'mkb', 'mkqa', 'mlqa', 'mlsum', 'mnist', 'mocha', 'moroco', 'movie_rationales', 'mrqa', 'ms_marco', 'ms_terms', 'msr_genomics_kbcomp', 'msr_sqa', 'msr_text_compression', 'msr_zhen_translation_parity', 'msra_ner', 'mt_eng_vietnamese', 'muchocine', 'multi_booked', 'multi_eurlex', 'multi_news', 'multi_nli', 'multi_nli_mismatch', 'multi_para_crawl', 'multi_re_qa', 'multi_woz_v22', 'multi_x_science_sum', 'mutual_friends', 'mwsc', 'myanmar_news', 'narrativeqa', 'narrativeqa_manual', 'natural_questions', 'ncbi_disease', 'nchlt', 'ncslgr', 'nell', 'neural_code_search', 'news_commentary', 'newsgroup', 'newsph', 'newsph_nli', 'newspop', 'newsqa', 'newsroom', 'nkjp-ner', 'nli_tr', 'nlu_evaluation_data', 'norec', 'norne', 'norwegian_ner', 'nq_open', 'nsmc', 'numer_sense', 'numeric_fused_head', 'oclar', 'offcombr', 'offenseval2020_tr', 'offenseval_dravidian', 'ofis_publik', 'ohsumed', 'ollie', 'omp', 'onestop_english', 'open_subtitles', 'openai_humaneval', 'openbookqa', 'openslr', 'openwebtext', 'opinosis', 'opus100', 'opus_books', 'opus_dgt', 'opus_dogc', 'opus_elhuyar', 'opus_euconst', 'opus_finlex', 'opus_fiskmo', 'opus_gnome', 'opus_infopankki', 'opus_memat', 'opus_montenegrinsubs', 'opus_openoffice', 'opus_paracrawl', 'opus_rf', 'opus_tedtalks', 'opus_ubuntu', 'opus_wikipedia', 'opus_xhosanavy', 'orange_sum', 'oscar', 'para_crawl', 'para_pat', 'parsinlu_reading_comprehension', 'paws', 'paws-x', 'pec', 'peer_read', 'peoples_daily_ner', 'per_sent', 'persian_ner', 'pg19', 'php', 'piaf', 'pib', 'piqa', 'pn_summary', 'poem_sentiment', 'polemo2', 'poleval2019_cyberbullying', 'poleval2019_mt', 'polsum', 'polyglot_ner', 'prachathai67k', 'pragmeval', 'proto_qa', 'psc', 'ptb_text_only', 'pubmed', 'pubmed_qa', 'py_ast', 'qa4mre', 'qa_srl', 'qa_zre', 'qangaroo', 'qanta', 'qasc', 'qasper', 'qed', 'qed_amara', 'quac', 'quail', 'quarel', 'quartz', 'quora', 'quoref', 'race', 're_dial', 'reasoning_bg', 'recipe_nlg', 'reclor', 'reddit', 'reddit_tifu', 'refresd', 'reuters21578', 'ro_sent', 'ro_sts', 'ro_sts_parallel', 'roman_urdu', 'ronec', 'ropes', 'rotten_tomatoes', 'russian_super_glue', 's2orc', 'samsum', 'sanskrit_classic', 'saudinewsnet', 'sberquad', 'scan', 'scb_mt_enth_2020', 'schema_guided_dstc8', 'scicite', 'scielo', 'scientific_papers', 'scifact', 'sciq', 'scitail', 'scitldr', 'search_qa', 'sede', 'selqa', 'sem_eval_2010_task_8', 'sem_eval_2014_task_1', 'sem_eval_2018_task_1', 'sem_eval_2020_task_11', 'sent_comp', 'senti_lex', 'senti_ws', 'sentiment140', 'sepedi_ner', 'sesotho_ner_corpus', 'setimes', 'setswana_ner_corpus', 'sharc', 'sharc_modified', 'sick', 'silicone', 'simple_questions_v2', 'siswati_ner_corpus', 'smartdata', 'sms_spam', 'snips_built_in_intents', 'snli', 'snow_simplified_japanese_corpus', 'so_stacksample', 'social_bias_frames', 'social_i_qa', 'sofc_materials_articles', 'sogou_news', 'spanish_billion_words', 'spc', 'species_800', 'spider', 'squad', 'squad_adversarial', 'squad_es', 'squad_it', 'squad_kor_v1', 'squad_kor_v2', 'squad_v1_pt', 'squad_v2', 'squadshifts', 'srwac', 'sst', 'stereoset', 'story_cloze', 'stsb_mt_sv', 'stsb_multi_mt', 'style_change_detection', 'subjqa', 'super_glue', 'superb', 'swag', 'swahili', 'swahili_news', 'swda', 'swedish_medical_ner', 'swedish_ner_corpus', 'swedish_reviews', 'swiss_judgment_prediction', 'tab_fact', 'tamilmixsentiment', 'tanzil', 'tapaco', 'tashkeela', 'taskmaster1', 'taskmaster2', 'taskmaster3', 'tatoeba', 'ted_hrlr', 'ted_iwlst2013', 'ted_multi', 'ted_talks_iwslt', 'telugu_books', 'telugu_news', 'tep_en_fa_para', 'thai_toxicity_tweet', 'thainer', 'thaiqa_squad', 'thaisum', 'the_pile_books3', 'the_pile_openwebtext2', 'the_pile_stack_exchange', 'tilde_model', 'time_dial', 'times_of_india_news_headlines', 'timit_asr', 'tiny_shakespeare', 'tlc', 'tmu_gfm_dataset', 'totto', 'trec', 'trivia_qa', 'tsac', 'ttc4900', 'tunizi', 'tuple_ie', 'turk', 'turkish_movie_sentiment', 'turkish_ner', 'turkish_product_reviews', 'turkish_shrinked_ner', 'turku_ner_corpus', 'tweet_eval', 'tweet_qa', 'tweets_ar_en_parallel', 'tweets_hate_speech_detection', 'twi_text_c3', 'twi_wordsim353', 'tydiqa', 'ubuntu_dialogs_corpus', 'udhr', 'um005', 'un_ga', 'un_multi', 'un_pc', 'universal_dependencies', 'universal_morphologies', 'urdu_fake_news', 'urdu_sentiment_corpus', 'vivos', 'web_nlg', 'web_of_science', 'web_questions', 'weibo_ner', 'wi_locness', 'wiki40b', 'wiki_asp', 'wiki_atomic_edits', 'wiki_auto', 'wiki_bio', 'wiki_dpr', 'wiki_hop', 'wiki_lingua', 'wiki_movies', 'wiki_qa', 'wiki_qa_ar', 'wiki_snippets', 'wiki_source', 'wiki_split', 'wiki_summary', 'wikiann', 'wikicorpus', 'wikihow', 'wikipedia', 'wikisql', 'wikitext', 'wikitext_tl39', 'wili_2018', 'wino_bias', 'winograd_wsc', 'winogrande', 'wiqa', 'wisesight1000', 'wisesight_sentiment', 'wmt14', 'wmt15', 'wmt16', 'wmt17', 'wmt18', 'wmt19', 'wmt20_mlqe_task1', 'wmt20_mlqe_task2', 'wmt20_mlqe_task3', 'wmt_t2t', 'wnut_17', 'wongnai_reviews', 'woz_dialogue', 'wrbsc', 'x_stance', 'xcopa', 'xed_en_fi', 'xglue', 'xnli', 'xor_tydi_qa', 'xquad', 'xquad_r', 'xsum', 'xsum_factuality', 'xtreme', 'yahoo_answers_qa', 'yahoo_answers_topics', 'yelp_polarity', 'yelp_review_full', 'yoruba_bbc_topics', 'yoruba_gv_ner', 'yoruba_text_c3', 'yoruba_wordsim353', 'youtube_caption_corrections', 'zest', '5roop/FRENK-hate-en', '5roop/FRENK-hate-hr', '5roop/FRENK-hate-sl', 'AConsApart/anime_subtitles_DialoGPT', 'Abdo1Kamr/Arabic_Hadith', 'AdWeeb/DravidianMT', 'Adnan/Urdu_News_Headlines', 'Akshith/aa', 'Akshith/g_rock', 'Akshith/test', 'Annielytics/DoctorsNotes', 'Avishekavi/Avi', 'BSC-TeMU/SQAC', 'BSC-TeMU/ancora-ca-ner', 'BSC-TeMU/sts-ca', 'BSC-TeMU/tecla', 'BSC-TeMU/viquiquad', 'BSC-TeMU/xquad-ca', 'Binbin/my_dataset', 'Bosio/pacman', 'Bosio/pacman_descriptions', 'CAGER/rick', 'CShorten/KerasBERT', 'CShorten/ZillowPrize', 'ChadxxxxHall/Inter-vision', 'Champion/vpc2020_clear_anon_speech', 'Check/a_re_gi', 'Check/region_1', 'Check/region_2', 'Check/region_3', 'Check/region_4', 'Check/region_5', 'Check/region_6', 'Check/region_7', 'Check/region_8', 'Check/region_9', 'Check/regions', 'Check/vverify', 'Chun/dataset', 'CodedotAI/code_clippy', 'Cropinky/flatearther', 'Cropinky/rap_lyrics_english', 'Cropinky/wow_fishing_bobber', 'Cyberfish/pos_tagger', 'Cyberfish/text_error_correction', 'Darren/data', 'Datatang/accented_english', 'Datatang/accented_mandarin', 'Datatang/chinese_dialect', 'Datatang/mandarin_chinese', 'Datatang/mixed_speech_chinese_english', 'Datatang/multi_language', 'Datatang/muti_language_conversation', 'Davlan/conll2003_de_noMISC', 'Davlan/conll2003_noMISC', 'Davlan/masakhanerV1', 'Dmitriy612/1', 'EMBO/biolang', 'EMBO/sd-nlp', 'ESZER/H', 'Emon/sobuj', 'Enes3774/data', 'Eymen3455/xsum_tr', 'FL33TW00D/test-dataset', 'FRTNX/cosuju', 'FRTNX/worldbank-projects', 'Felix-ML/quoteli3', 'Firoj/CrisisBench', 'Francois/futures_es', 'Fraser/mnist-text-default', 'Fraser/mnist-text-no-spaces', 'Fraser/mnist-text-small', 'Fraser/news-category-dataset', 'Fraser/python-lines', 'Fraser/short-jokes', 'Fraser/wiki_sentences', 'Gabriel/squad_v2_sv', 'GalacticAI/Noirset', 'Gauravadlakha1509/new_one', 'Gwangho/NCBI-Sars-Cov-2', 'Halilyesilceng/autonlp-data-nameEntityRecognition', 'HarleyQ/WitcherDialogue', 'Harveenchadha/bol-models', 'HarveyBWest/mybot', 'Hellisotherpeople/DebateSum', 'Husain/intent-classification-en-fr', 'IFSTalfredoswald/MBTI', 'IlyaGusev/gazeta', 'IlyaGusev/headline_cause', 'Intel/WEC-Eng', 'JIsanan/war-ceb-wikipedia', 'Jean-Baptiste/wikiner_fr', 'Jeska/autonlp-data-vaccinfaq', 'Jeska/vaccinchat', 'Jikiwa/demo1', 'Jikiwa/demo2', 'Jikiwa/demo3', 'Jikiwa/demo4', 'Jikiwa/glue-mnli-train', 'Jikiwa/push-to-hub', 'Jikiwa/pushe-to-hub', 'Jikiwa/pushed-to-hub', 'Jikiwa/pushedd-to-hub', 'Jikiwa/stargazers', 'Jikiwa/temp-repo-valid', 'Jikiwa/test-16336477963335', 'Jikiwa/test-16336478042515', 'Jikiwa/test-16336479967338', 'Jikiwa/test-16336480189315', 'Jikiwa/test-16336486877862', 'Jikiwa/test-16340052901609', 'Jikiwa/test-16340052972855', 'Jikiwa/test-16344347220590', 'Jikiwa/test-16344347234752', 'Jikiwa/test-16344349332219', 'Jikiwa/test-16344349440339', 'Jikiwa/test-16344351925697', 'Jikiwa/test-16344360501144', 'Jikiwa/test-16344361893586', 'Jikiwa/test-16344362261113', 'Jikiwa/test-16344362895458', 'Jikiwa/test-16344364230608', 'Jikiwa/test-16344364547167', 'Jikiwa/test-16344367190179', 'Jikiwa/test-16344368182003', 'KBLab/suc3', 'KETI-AIR/aihub', 'KETI-AIR/klue', 'KETI-AIR/kor_corpora', 'KETI-AIR/korquad', 'KETI-AIR/nikl', 'Karavet/ARPA', 'Khanoooo/autonlp-data-Corona', 'LIAMF-USP/arc-retrieval-c4', 'LeoCordoba/CC-NEWS-ES-titles', 'LeoCordoba/CC-NEWS-ES', 'MBAH/MOVIESON', 'MKK/Dhivehi-English', 'Mansooreh/sharif-emotional-speech-dataset', 'MarianaSahagun/test', 'Mateo/testdataset', 'Melinoe/TheLabTexts', 'MickyMike/large_c_corpus', 'Mrleo1nid/Test_ru_dataset', 'Mulin/my_second_dataset', 'Mulin/my_third_dataset', 'NTUYG/RAGTest', 'Narsil/asr_dummy', 'Narsil/conversational_dummy', 'Narsil/image_dummy', 'NbAiLab/norec_agg', 'NbAiLab/norne', 'NbAiLab/norwegian_parliament', 'NbAiLab/test_corpus', 'Ofrit/tmp', 'Pengfei/test', 'PlanTL-GOB-ES/SQAC', 'Pongsaky/Wiki_SCG', 'Pyke/patent_abstract', 'QA/abk-eng', 'Remesita/tagged_reviews', 'RohanAiLab/persian_blog', 'RohanAiLab/persian_daily_news', 'RohanAiLab/persian_news_dataset', 'Romrawin/mn-sim', 'SCourthial/test', 'SajjadAyoubi/persian_qa', 'Sam2021/Arguement_Mining_CL2017', 'SaulLu/Natural_Questions_HTML', 'SaulLu/Natural_Questions_HTML_Toy', 'SaulLu/Natural_Questions_HTML_reduced_all', 'SaulLu/test', 'SaulLu/toy_struc_dataset', 'Serhii/Custom_SQuAD', 'ShinyQ/PPKM_Pemerintah', 'Smiling/webnovels-en', 'SoLID/shellcode_i_a32', 'SocialGrep/one-million-reddit-confessions', 'SocialGrep/one-million-reddit-jokes', 'SocialGrep/one-million-reddit-questions', 'SocialGrep/one-year-of-r-india', 'SocialGrep/reddit-crypto-aug-2021', 'SocialGrep/reddit-nonewnormal-complete', 'SocialGrep/reddit-wallstreetbets-aug-2021', 'SocialGrep/ten-million-reddit-answers', 'TRoboto/masc', 'Tatyana/ru_sentiment_dataset', 'Terry0107/RiSAWOZ', 'Tevatron/msmarco-passage-corpus', 'Tevatron/msmarco-passage', 'Tevatron/scifact-corpus', 'Tevatron/scifact', 'Tevatron/wikipedia-curated-corpus', 'Tevatron/wikipedia-curated', 'Tevatron/wikipedia-nq-corpus', 'Tevatron/wikipedia-nq', 'Tevatron/wikipedia-squad-corpus', 'Tevatron/wikipedia-squad', 'Tevatron/wikipedia-trivia-corpus', 'Tevatron/wikipedia-trivia', 'Tevatron/wikipedia-wq-corpus', 'Tevatron/wikipedia-wq', 'TheBlindBandit/SpongeNot', 'TimTreasure4/Test', 'Trainmaster9977/957', 'Trainmaster9977/zbakuman', 'Tyler/wikimatrix_collapsed', 'VJGamer/test', 'Valahaar/wsdmt', 'Vishva/UniFAQ_DataSET', 'VoVanPhuc/translate_vi2en', 'Wikidepia/IndoParaCrawl', 'Wikidepia/IndoSQuAD', 'Wikidepia/mc4-filter', 'Wuhu0/output', 'WyrdCurt/AO4W', 'XiangPan/iflytek', 'XiangPan/snli_break', 'XiangXiang/clt', 'Xinghua/test', 'Yves/fhnw_swiss_parliament', 'Zaid/coqa_expanded', 'Zaid/quac_expanded', 'aapot/mc4_fi_cleaned', 'abhishek/autonlp-data-imdb_eval', 'abwicke/C-B-R', 'abwicke/koplo', 'adamlin/FewShotWoz', 'adamlin/companion', 'adamlin/daily_dialog', 'adamlin/domain_classification', 'adamlin/multiwoz_dst', 'adamlin/qa_verification', 'adamlin/roc_story', 'adamlin/rs', 'adamlin/weibo_ner', 'ajmbell/test-dataset', 'akumar33/manufacturing', 'albertvillanova/datasets-tests-compression', 'albertvillanova/dummy_libri2mix', 'albertvillanova/tests-public-raw-jsonl', 'albertvillanova/tests-raw-jsonl', 'alireza655/alireza655', 'alittleie/mis_238', 'allegro/polish-question-passage-pairs', 'allegro/summarization-allegro-articles', 'allegro/summarization-polish-summaries-corpus', 'allenai/c4', 'allenai/scico', 'ami-wav2vec2/ami_multi_headset_segmented_and_chunked', 'ami-wav2vec2/ami_multi_headset_segmented_and_chunked_dummy', 'ami-wav2vec2/ami_single_headset_segmented', 'ami-wav2vec2/ami_single_headset_segmented_and_chunked', 'ami-wav2vec2/ami_single_headset_segmented_and_chunked_dummy', 'ami-wav2vec2/ami_single_headset_segmented_dummy', 'animesh/autonlp-data-peptides', 'anton-l/common_language', 'anton-l/superb', 'anton-l/superb_demo', 'anton-l/superb_dummy', 'anukaver/EstQA', 'artyeth/Dorian', 'ashish-shrivastava/dont-know-dataset', 'asi/wikitext_fr', 'astarostap/antisemitic-tweets', 'astarostap/antisemitic_tweets', 'astarostap/autonlp-data-antisemitism-2', 'atelders/politweets', 'athar/QA', 'athivvat/thai-rap-lyrics', 'ausgequetschtem/jtrddfhfgh', 'bavard/personachat_truecased', 'bemanningssitua/dplremjfjfj', 'berkergurcay/2020-10K-Reports', 'bertin-project/mc4-es-sampled', 'bertin-project/mc4-sampling', 'bhadresh-savani/web_split', 'bigscience/LanguageResourceCatalogue', 'bigscience/P3', 'bigscience/mc4-sampled', 'bigscience/open_subtitles_monolingual', 'biu-nlp/qa_discourse', 'biu-nlp/qa_srl2018', 'biu-nlp/qa_srl2020', 'biu-nlp/qamr', 'biu-nlp/qanom', 'blinoff/medical_qa_ru_data', 'braincode/braincode', 'bs-modeling-metadata/OSCAR_Entity_13_000', 'bs-modeling-metadata/c4_newslike_url_only', 'bs-modeling-metadata/website_metadata_c4', 'bsc/ancora-ca-ner', 'bsc/sts-ca', 'bsc/tecla', 'bsc/viquiquad', 'bsc/xquad-ca', 'caca/zscczs', 'cakiki/args_me', 'canwenxu/dogwhistle', 'castorini/mr-tydi-corpus', 'castorini/mr-tydi', 'caythuoc/caoduoclieu', 'ccccccc/hdjw_94ejrjr', 'cdleong/piglatin-mt', 'cdleong/temp_africaNLP_keyword_spotting_for_african_languages', 'cdminix/iwslt2011', 'cdminix/mgb1', 'cemigo/taylor_vs_shakes', 'cemigo/test-data', 'chenyuxuan/wikigold', 'cheulyop/dementiabank', 'cheulyop/ksponspeech', 'clarin-pl/aspectemo', 'clarin-pl/cst-wikinews', 'clarin-pl/kpwr-ner', 'clarin-pl/nkjp-pos', 'clarin-pl/polemo2-official', 'classla/FRENK-hate-en', 'classla/FRENK-hate-hr', 'classla/FRENK-hate-sl', 'classla/copa_hr', 'classla/hr500k', 'classla/janes_tag', 'classla/reldi_hr', 'classla/reldi_sr', 'classla/setimes_sr', 'classla/ssj500k', 'clem/autonlp-data-french_word_detection', 'clips/mfaq', 'cnrcastroli/aaaa', 'coala/kkk', 'congpt/dstc23_asr', 'corypaik/coda', 'corypaik/prost', 'craffel/openai_lambada', 'csebuetnlp/xlsum', 'csebuetnlp/xnli_bn', 'cstrathe435/Task2Dial', 'ctl/ConceptualCaptions', 'dalle-mini/encoded-vqgan_imagenet_f16_16384', 'dalle-mini/encoded', 'dasago78/dasago78dataset', 'dataset/wikipedia_bn', 'david-wb/zeshel', 'deepset/germandpr', 'deepset/germanquad', 'dfgvhxfgv/fghghj', 'dfki-nlp/few-nerd', 'dfki-nlp/mobie', 'dgao/librispeech_nc_test', 'dgknrsln/Yorumsepeti', 'diiogo/brwac-clean', 'diiogo/harem', 'dispenst/jhghdghfd', 'dispix/test-dataset', 'dk-crazydiv/huggingface-modelhub', 'dongpil/test', 'dumitrescustefan/ronec', 'dvilasuero/ag_news_training_set_losses', 'dweb/squad_with_cola_scores', 'dynabench/dynasent', 'dynabench/qa', 'eason929/test', 'edfews/szdfcszdf', 'edsas/fgrdtgrdtdr', 'edsas/grttyi', 'ehcalabres/ravdess_speech', 'ejjaffe/onion_headlines_2_sources', 'eliza-dukim/load_klue_re', 'erikacardenas300/Zillow_Economics_Dataset', 'ervis/aaa', 'ervis/qqq', 'eugenesiow/BSD100', 'eugenesiow/Div2k', 'eugenesiow/PIRM', 'eugenesiow/Set14', 'eugenesiow/Set5', 'eugenesiow/Urban100', 'ewdrtfwe/54refyghrtf', 'fatvvs/autonlp-data-entity_model_conll2003', 'fihtrotuld/asu', 'flax-community/code_clippy_data', 'flax-community/conceptual-12m-mbart-50-multilingual', 'flax-community/conceptual-12m-multilingual-marian-128', 'flax-community/conceptual-12m-multilingual-marian-es', 'flax-community/conceptual-12m-multilingual-marian', 'flax-community/conceptual-captions-12', 'flax-community/dummy-oscar-als-32', 'flax-community/german-common-voice-processed', 'flax-community/german_common_crawl', 'flax-community/multilingual-vqa', 'flax-community/norwegian-clean-dummy', 'flax-community/swahili-safi', 'flax-sentence-embeddings/Gender_Bias_Evaluation_Set', 'flax-sentence-embeddings/paws-jsonl', 'flax-sentence-embeddings/stackexchange_math_jsonl', 'flax-sentence-embeddings/stackexchange_title_best_voted_answer_jsonl', 'flax-sentence-embeddings/stackexchange_title_body_jsonl', 'flax-sentence-embeddings/stackexchange_titlebody_best_and_down_voted_answer_jsonl', 'flax-sentence-embeddings/stackexchange_titlebody_best_voted_answer_jsonl', 'flax-sentence-embeddings/stackexchange_xml', 'flexudy/OMQD', 'formermagic/github_python_1m', 'formu/CVT', 'fulai/DuReader', 'fuliucansheng/data_for_test', 'fuliucansheng/minicoco', 'fuliucansheng/mininlp', 'fuliucansheng/pascal_voc', 'fuyun1107/clip-for-vlp', 'fvillena/cantemist', 'fvillena/spanish_diagnostics', 'gagan3012/fake-news', 'gar1t/test', 'gcaillaut/citeseer', 'gcaillaut/cora', 'gcaillaut/pubmed', 'german-nlp-group/german_common_crawl', 'gmnlp/tico19', 'gpt3mix/rt20', 'gpt3mix/sst2', 'greeneggsandyaml/test-dataset-debug', 'gsarti/change_it', 'gsarti/clean_mc4_it', 'gsarti/flores_101', 'gsarti/itacola', 'gsarti/wmt_vat', 'gustavecortal/fr_covid_news', 'habu24/fdz', 'hartzeer/kdfjdshfje', 'hf-internal-testing/cats_vs_dogs_sample', 'hf-internal-testing/fixtures_ade20k', 'hf-internal-testing/fixtures_docvqa', 'hf-internal-testing/fixtures_ocr', 'hf-internal-testing/librispeech_asr_demo', 'hf-internal-testing/librispeech_asr_dummy', 'hfface/poopi', 'holodata/sensai', 'holylovenia/recam', 'howardmiddleton382/esuyertusutr', 'howardmiddleton382/wgweagwege', 'huggingFaceUser02/air21_grp13_inference_results', 'huggingFaceUser02/air21_grp13_tokenized_results', 'huggingartists/21-savage', 'huggingartists/25-17', 'huggingartists/50-cent', 'huggingartists/5nizza', 'huggingartists/5opka', 'huggingartists/6ix9ine', 'huggingartists/aaron-watson', 'huggingartists/abba', 'huggingartists/adele', 'huggingartists/agata-christie', 'huggingartists/aikko', 'huggingartists/aimer', 'huggingartists/ajr', 'huggingartists/alan-walker', 'huggingartists/andre-3000', 'huggingartists/arash', 'huggingartists/arctic-monkeys', 'huggingartists/ariana-grande', 'huggingartists/armin-van-buuren', 'huggingartists/asdfgfa', 'huggingartists/asper-x', 'huggingartists/baklan', 'huggingartists/big-baby-tape', 'huggingartists/big-russian-boss', 'huggingartists/bill-wurtz', 'huggingartists/billie-eilish', 'huggingartists/billy-talent', 'huggingartists/bladee', 'huggingartists/bones', 'huggingartists/boris-grebenshikov', 'huggingartists/braii', 'huggingartists/bruce-springsteen', 'huggingartists/bryan-adams', 'huggingartists/burzum', 'huggingartists/bushido-zho', 'huggingartists/cardi-b', 'huggingartists/chester-bennington', 'huggingartists/cocomelon', 'huggingartists/coin', 'huggingartists/coldplay', 'huggingartists/dababy', 'huggingartists/david-bowie', 'huggingartists/ddt', 'huggingartists/death-grips', 'huggingartists/deep-purple', 'huggingartists/denderty', 'huggingartists/dermot-kennedy', 'huggingartists/dj-artem-artemov', 'huggingartists/doja-cat', 'huggingartists/drake', 'huggingartists/dua-lipa', 'huggingartists/duran-duran', 'huggingartists/dzhizus', 'huggingartists/ed-sheeran', 'huggingartists/egor-kreed', 'huggingartists/egor-letov', 'huggingartists/elton-john', 'huggingartists/eminem', 'huggingartists/enigma', 'huggingartists/enya', 'huggingartists/epic-rap-battles-of-history', 'huggingartists/face', 'huggingartists/fascinoma', 'huggingartists/fear-factory', 'huggingartists/florence-the-machine', 'huggingartists/freelancer', 'huggingartists/galenskaparna-and-after-shave', 'huggingartists/ghost', 'huggingartists/ghostemane', 'huggingartists/ghostmane', 'huggingartists/gizmo', 'huggingartists/gorillaz', 'huggingartists/green-day', 'huggingartists/grigory-leps', 'huggingartists/grimes', 'huggingartists/gspd', 'huggingartists/gunna', 'huggingartists/hillsong-worship', 'huggingartists/i-dont-know-how-but-they-found-me', 'huggingartists/idktime', 'huggingartists/imagine-dragons', 'huggingartists/jah-khalib', 'huggingartists/jim-morrison', 'huggingartists/john-lennon', 'huggingartists/joji', 'huggingartists/joni-mitchell', 'huggingartists/justin-bieber', 'huggingartists/kanye-west', 'huggingartists/kasta', 'huggingartists/kehlani', 'huggingartists/king-krule', 'huggingartists/kipelov', 'huggingartists/kishlak', 'huggingartists/kizaru', 'huggingartists/krechet', 'huggingartists/krept-and-konan-bugzy-malone-sl-morisson-abra-cadabra-rv-and-snap-capone', 'huggingartists/kurt-cobain', 'huggingartists/lady-gaga', 'huggingartists/lazy-jay', 'huggingartists/led-zeppelin', 'huggingartists/lil-baby', 'huggingartists/lil-nas-x', 'huggingartists/lil-peep', 'huggingartists/lil-skies', 'huggingartists/lil-uzi-vert', 'huggingartists/linkin-park', 'huggingartists/little-big', 'huggingartists/lizer', 'huggingartists/logic', 'huggingartists/lorde', 'huggingartists/loud-luxury', 'huggingartists/loverance', 'huggingartists/lovv66', 'huggingartists/lumen', 'huggingartists/lyapis-trubetskoy', 'huggingartists/macan', 'huggingartists/machine-gun-kelly', 'huggingartists/madonna', 'huggingartists/maroon-5', 'huggingartists/mashina-vremeni', 'huggingartists/mating-ritual', 'huggingartists/max-korzh', 'huggingartists/mayot', 'huggingartists/mc-ride', 'huggingartists/melanie-martinez', 'huggingartists/metallica', 'huggingartists/mf-doom', 'huggingartists/michael-jackson', 'huggingartists/mikhail-gorshenev', 'huggingartists/miyagi', 'huggingartists/mnogoznaal', 'huggingartists/morgenshtern', 'huggingartists/mumiy-troll', 'huggingartists/muse', 'huggingartists/nautilus-pompilius', 'huggingartists/nervy', 'huggingartists/nirvana', 'huggingartists/noize-mc', 'huggingartists/obladaet', 'huggingartists/og-buda', 'huggingartists/ot-rus', 'huggingartists/our-last-night', 'huggingartists/oxxxymiron', 'huggingartists/peter-paul-and-mary', 'huggingartists/pharaoh', 'huggingartists/placebo', 'huggingartists/platina', 'huggingartists/pop-smoke', 'huggingartists/post-malone', 'huggingartists/pyrokinesis', 'huggingartists/queen', 'huggingartists/radiohead', 'huggingartists/rage-against-the-machine', 'huggingartists/ramil', 'huggingartists/red-hot-chili-peppers', 'huggingartists/rex-orange-county', 'huggingartists/rihanna', 'huggingartists/rocket', 'huggingartists/sam-kim', 'huggingartists/scriptonite', 'huggingartists/sektor-gaza', 'huggingartists/sergei-letov', 'huggingartists/shadowraze', 'huggingartists/sia', 'huggingartists/sid-sriram', 'huggingartists/skillet', 'huggingartists/slava-kpss', 'huggingartists/slava-marlow', 'huggingartists/snoop-dogg', 'huggingartists/sqwore', 'huggingartists/sugar-ray', 'huggingartists/suicideoscope', 'huggingartists/sum-41', 'huggingartists/sundara-karma', 'huggingartists/system-of-a-down', 'huggingartists/tanzy-minus', 'huggingartists/taylor-swift', 'huggingartists/the-69-eyes', 'huggingartists/the-avalanches', 'huggingartists/the-beatles', 'huggingartists/the-gazette', 'huggingartists/the-king-and-the-jester', 'huggingartists/the-notorious-big', 'huggingartists/the-sugarcubes', 'huggingartists/the-the-pigs', 'huggingartists/the-velvet-underground', 'huggingartists/the-weeknd', 'huggingartists/tiamat', 'huggingartists/till-lindemann', 'huggingartists/tom-waits', 'huggingartists/tony-raut-and-garry-topor', 'huggingartists/tool', 'huggingartists/totpoc', 'huggingartists/travis-scott', 'huggingartists/twenty-one-pilots', 'huggingartists/upsahl', 'huggingartists/v-x-v-prince', 'huggingartists/van-morrison', 'huggingartists/veggietales', 'huggingartists/viktor-tsoi', 'huggingartists/vladimir-vysotsky', 'huggingartists/xxxtentacion', 'huggingartists/young-thug', 'huggingartists/yung-lean', 'huggingartists/yung-plague', 'huggingartists/zemfira', 'huggingface/DataMeasurementsFiles', 'huggingface/label-files', 'huggingface-course/codeparrot-ds-train', 'huggingface-course/codeparrot-ds-valid', 'huyongquan/d2', 'iamshsdf/sssssssssss', 'iarfmoose/question_generator', 'imthanhlv/binhvq_dedup', 'imthanhlv/binhvq_news21_raw', 'indonesian-nlp/id_personachat', 'jaimin/wav2vec2-large-xlsr-gujarati-demo', 'jakemarcus/MATH', 'jamol1741/test_dataset', 'jdepoix/junit_test_completion', 'jglaser/binding_affinity', 'jhqwqq/2', 'jimregan/clarinpl_sejmsenat', 'jimregan/clarinpl_studio', 'jimregan/foinse', 'jimregan/lasid', 'jinmang2/aistage-mrc', 'jinmang2/load_klue_re', 'jiyoojeong/targetizer', 'jmamou/augmented-glue-sst2', 'joelito/ler', 'joelito/sem_eval_2010_task_8', 'jonfd/ICC', 'julien-c/dummy-dataset-from-colab', 'julien-c/persistent-space-dataset', 'julien-c/reactiongif', 'juliensimon/autonlp-data-song-lyrics-demo', 'juliensimon/autonlp-data-song-lyrics', 'juny116/few_glue', 'k-halid/ar', 'k0t1k/test', 'kaka10/fgfgfgfg', 'karinev/lanuitdudroit', 'katoensp/VR-OP', 'keshan/clean-si-mc4', 'keshan/large-sinhala-asr-dataset', 'keshan/multispeaker-tts-sinhala', 'keshan/wit-dataset', 'kevinlu1248/personificationgen', 'khanbaba/online_love', 'kiamehr74/CoarseWSD-20', 'kiyoung2/aistage-mrc', 'kmfoda/booksum', 'kmyoo/klue-tc-dev', 'knilakshan20/wikigold', 'laion/laion_100m_vqgan_f8', 'laion/laion_20m_dvae', 'lavis-nlp/german_legal_sentences', 'layboard/layboard.in', 'lbourdois/CoFiF', 'leoapolonio/AMI_Meeting_Corpus', 'lewtun/asr-preds-test', 'lewtun/asr_dummy', 'lewtun/binary_classification_dummy', 'lewtun/bulk-superb-s3p-superb-49606', 'lewtun/drug-reviews', 'lewtun/github-issues-test', 'lewtun/github-issues', 'lewtun/mnist-preds', 'lewtun/my-awesome-dataset', 'lewtun/s3prl-sd-dummy', 'lewtun/text_classification_dummy', 'lhoestq/custom_squad', 'lhoestq/demo1', 'lhoestq/squad', 'lhoestq/test', 'lhoestq/test2', 'lhoestq/wikipedia_bn', 'liam168/nlp_c4_sentiment', 'lincoln/newsquadfr', 'lkiouiou/o9ui7877687', 'lkndsjkndgskjngkjsndkj/jsjdjsdvkjvszlhdskb', 'lohanna/testedjkcxkf', 'lorsorlah/Dadedadedam', 'loveguruji609/dfdfsdfsdfsdfsdfsd', 'lucien/sciencemission', 'lucien/voacantonesed', 'lucien/wsaderfffjjjhhh', 'lucio/common_voice_eval', 'lukasmasuch/my-test-repo-3', 'lukasmasuch/my-test-repo-4', 'lukasmasuch/test-2', 'lukasmasuch/test-3', 'lukasmasuch/test', 'luofengge/mydata', 'luofengge/testDataset', 'lvwerra/codeparrot-valid', 'm3hrdadfi/recipe_nlg_lite', 'mad/IndonesiaNewsDataset', 'maji/npo_mission_statement_ucf', 'majod/CleanNaturalQuestionsDataset', 'makanan/umich', 'manandey/OSCAR_Entity_Toy', 'manandey/entity_experiments', 'mariosasko/beans', 'mariosasko/dummy_dataset', 'markscrivo/OddsOn', 'martodaniel/terere', 'masked-neuron/ccd', 'maximedb/paws-x-all', 'maximedb/vaccinchat', 'medzaf/test', 'meghanabhange/chaii', 'meghanabhange/hilm141021', 'meghanabhange/hitalm141021', 'meghanabhange/hitalmsandbox', 'meghanabhange/talm141021', 'merve/folk-mythology-tales', 'merve/poetry', 'metalearning/kaggale-nlp-tutorial', 'mhtoin/register_oscar', 'microsoft/codexglue_method_generation', 'mksaad/Arabic_news', 'ml6team/cnn_dailymail_nl', 'mldmm/glass_alloy_composition', 'mmm-da/rutracker_anime_torrent_titles', 'moshew/my_raft', 'mr-robot/ec', 'mrm8488/fake-news', 'mrojas/abbreviation', 'mrojas/body', 'mrojas/disease', 'mrojas/family', 'mrojas/finding', 'mrojas/medication', 'mrojas/procedure', 'mulcyber/europarl-mono', 'munggok/mc4-id', 'mustafa12/db_ee', 'mustafa12/edaaaas', 'mustafa12/thors', 'nateraw/auto-cats-and-dogs', 'nateraw/auto-exp-2', 'nateraw/beans', 'nateraw/beans_old', 'nateraw/blahblah', 'nateraw/bulk-dummy', 'nateraw/cats-and-dogs', 'nateraw/cats_vs_dogs', 'nateraw/dummy-csv-dataset', 'nateraw/fairface', 'nateraw/filings-10k', 'nateraw/food101', 'nateraw/food101_old', 'nateraw/image-folder', 'nateraw/imagefolder', 'nateraw/imagenette', 'nateraw/img-demo', 'nateraw/rock_paper_scissors', 'nateraw/sync_food101', 'nateraw/test', 'nateraw/wit', 'nathanlsl/news', 'naver-clova-conversation/klue-tc-dev-tsv', 'naver-clova-conversation/klue-tc-tsv', 'naver-clova-conversation-ul/klue-tc-dev', 'ncats/EpiSet4NER', 'ncoop57/athena_data', 'ncoop57/rico_captions', 'neelalex/raft-predictions', 'nielsr/FUNSD_layoutlmv2', 'nielsr/XFUN', 'nielsr/funsd', 'nlpaueb/test', 'nlpufg/brwac-pt', 'nlpufg/brwac', 'nlpufg/oscar-pt', 'notional/notional-python', 'nucklehead/ht-voice-dataset', 'oelkrise/CRT', 'osanseviero/codeparrot-train', 'osanseviero/llama_test', 'osanseviero/test', 'oscar-corpus/OSCAR-2109', 'ought/raft-submission', 'ought/raft', 'outman/test', 'pariajm/sharif_emotional_speech_dataset', 'parivartanayurveda/Malesexproblemsayurvedictreatment', 'pasinit/scotus', 'pasinit/xlwic', 'patrickvonplaten/ami_single_headset_segmented_and_chunked', 'patrickvonplaten/common_voice_6_tr', 'patrickvonplaten/common_voice_processed_turkish', 'patrickvonplaten/librispeech_asr_dummy', 'patrickvonplaten/librispeech_local', 'patrickvonplaten/librispeech_local_dummy', 'patrickvonplaten/scientific_papers_dummy', 'pdesoyres/test', 'peixian/equity_evaluation_corpus', 'peixian/rtGender', 'pelican/test_100', 'pere/norwegian_colossal_corpus_v2_short100k', 'persiannlp/parsinlu_entailment', 'persiannlp/parsinlu_query_paraphrasing', 'persiannlp/parsinlu_reading_comprehension', 'persiannlp/parsinlu_sentiment', 'persiannlp/parsinlu_translation_en_fa', 'persiannlp/parsinlu_translation_fa_en', 'philschmid/test_german_squad', 'phonlab-tcd/cngv1', 'phonlab-tcd/corpuscrawler-ga', 'piEsposito/br-quad-2.0', 'piEsposito/br_quad_20', 'piEsposito/squad_20_ptbr', 'pierreant-p/jcvd-or-linkedin', 'pierresi/cord', 'princeton-nlp/datasets-for-simcse', 'priya3301/Graduation_admission', 'priya3301/tes', 'priya3301/test', 'proffttega/ILLUMINATI', 'proffttega/doc', 'proffttega/join_illuminati_to_become_rich', 'proffttega/persian_daily_news', 'pulmo/chest_xray', 'qfortier/instagram_ny', 'qr/cefr_book_sentences', 'quis/vnexpress-train', 'qwant/squad_fr', 'rahular/itihasa', 'rajeshradhakrishnan/malayalam_2020_wiki', 'rajeshradhakrishnan/malayalam_news', 'ramybaly/conll2012', 'ramybaly/nerd', 'ranim/Algerian-Arabic', 'ranpox/xfund', 'rays2pix/example', 'rays2pix/example_dataset', 'readerbench/ChatLinks', 'rewardsignal/reddit_writing_prompts', 'rom1504/laion400m', 'rony/soccer-dialogues', 'roskoN/dailydialog', 'roskoN/dstc8-reddit-corpus', 's-myk/test', 'sagnikrayc/mctest', 'sagnikrayc/quasar', 'salesken/Paraphrase_category_detection', 'sanyu/aw', 'sanyu/er', 'sanyu/hh', 'sanyu/vb', 'sbrandeis/restricted-demo', 'sc2qa/sc2q_commoncrawl', 'sc2qa/sc2qa_commoncrawl', 'sdfufygvjh/fgghuviugviu', 'seamew/ChnSentiCorp', 'seamew/Hotel', 'seamew/THUCNews', 'seamew/THUCNewsText', 'seamew/THUCNewsTitle', 'seamew/Weibo', 'seanbethard/autonlp-data-summarization_model', 'sentence-transformers/embedding-training-data', 'sentence-transformers/msmarco-hard-negatives', 'sentence-transformers/parallel-sentences', 'sentence-transformers/reddit-title-body', 'seregadgl/test_set', 'sevbqewre/vebdesbdty', 'severo/autonlp-data-sentiment_detection-3c8bcd36', 'severo/wit', 'shahrukhx01/questions-vs-statements', 'shanya/website_metadata_c4_toy', 'sharejing/BiPaR', 'shivkumarganesh/CoLA', 'shpotes/ms_coco', 'shpotes/tfcol', 'sijpapi/batch13', 'sijpapi/funsd', 'sijpapi/funsds', 'sileod/metaeval', 'sismetanin/rureviews', 'smallv0221/my-test', 'somaimanguyat/Genjer', 'somaimanguyat/Koboy', 'somaimanguyat/Movieonline2021', 'somaimanguyat/Salome', 'somaimanguyat/movie21', 'somaimanguyat/xiomay', 'spacemanidol/ms_marco_doc2query', 'spacemanidol/msmarco_passage_ranking', 'ssasaa/gghghgh', 'sshleifer/pseudo_bart_xsum', 'stas/c4-en-10k', 'stas/openwebtext-10k', 'stas/oscar-en-10k', 'stas/wmt14-en-de-pre-processed', 'stas/wmt16-en-ro-pre-processed', 'stevhliu/demo', 'stiel/skjdhjkasdhasjkd', 'subiksha/OwnDataset', 'superb/superb-data', 'susumu2357/squad_v2_sv', 'svalabs/all-nli-german-translation-wmt19', 'svalabs/ms-marco-german-translation-wmt19', 'svanhvit/iceErrorCorpus', 'svanhvit/icelandic-ner-MIM-GOLD-NER', 'tals/test', 'tanfiona/causenet_wiki', 'tarudesu/UIT-ViCTSD', 'testOrganization01/test05', 'tharindu/MOLD', 'thiemowa/argumentationreviewcorpus', 'thiemowa/empathyreviewcorpus', 'thomwolf/codeparrot-train', 'thomwolf/codeparrot-valid', 'thomwolf/codeparrot', 'thomwolf/github-dataset', 'thomwolf/github-python', 'thomwolf/very-good-dataset', 'thomwolf/very-test-dataset-2', 'thomwolf/very-test-dataset', 'tianxing1994/temp', 'toloka/CrowdSpeech', 'toloka/VoxDIY-RusNews', 'tommy19970714/common_voice', 'toriving/kosimcse', 'toriving/talktalk-sentiment-210713-multi-singleturn-custom-multiturn', 'transformersbook/codeparrot-train', 'transformersbook/codeparrot-valid', 'transformersbook/codeparrot', 'ttj/metadata_arxiv', 'turingbench/TuringBench', 'uasoyasser/rgfes', 'ujjawal1612/quora', 'usc-isi/Wiki-Convert', 'uva-irlab/canard_quretec', 'uva-irlab/trec-cast-2019-multi-turn', 'uyeongjae/load_klue_re_agmented', 'vasudevgupta/amazon-ml-hack', 'vasudevgupta/bigbird-tokenized-natural-questions', 'vasudevgupta/data', 'vasudevgupta/gsoc-librispeech', 'vasudevgupta/natural-questions-validation', 'vasudevgupta/prml_data_contest', 'vasudevgupta/temperature-distribution-2d-plate', 'vasudevgupta/temperature-distribution-3d-cylinder', 'vblagoje/eli5', 'vblagoje/eli5v1', 'vblagoje/wikipedia_snippets_streamed', 'vctc92/sdsd', 'vctc92/test', 'versae/norwegian-t5-dataset-debug', 'versae/norwegian-t5-dataset-debug2', 'versae/norwegian-t5-dataset-debug3', 'vershasaxena91/datasets', 'vershasaxena91/squad_multitask', 'vesteinn/IC3', 'vesteinn/icelandic-ner-MIM-GOLD-NER', 'vs4vijay/VizDS', 'w-nicole/childes_data', 'w-nicole/childes_data_no_tags', 'w-nicole/childes_data_no_tags_', 'w-nicole/childes_data_with_tags', 'w-nicole/childes_data_with_tags_', 'w11wo/imdb-javanese', 'webek18735/ddvoacantonesed', 'webek18735/dhikhscook', 'webis/args_me', 'weijieliu/senteval_cn', 'wifis/ouivirtual', 'wisdomify/story', 'wmt/europarl', 'wmt/news-commentary', 'wmt/uncorpus', 'wmt/wikititles', 'wmt/wmt10', 'wmt/wmt13', 'wmt/wmt14', 'wmt/wmt15', 'wmt/wmt16', 'wmt/wmt17', 'wmt/wmt18', 'wmt/wmt19', 'wzkariampuzha/EpiExtract4GARD', 'xiaj/ds_test', 'xiaj/test0919', 'xiaobendanyn/demo', 'xiaobendanyn/nyt10', 'xiaobendanyn/tacred', 'yannobla/Sunshine', 'yazdipour/text-to-sparql-kdwd', 'yhavinga/mc4_nl_cleaned', 'yluisfern/PBU', 'yo/devparty', 'yuanchuan/annotated_reference_strings', 'yuvalkirstain/asset', 'z-uo/squad-it', 'zlucia/casehold', 'Ishwar/Senti', 'DoctorSlimm/yipee', 'Mateo/test_dataset']\n"
     ]
    }
   ],
   "source": [
    "import datasets\n",
    "datasets_list = datasets.list_datasets()\n",
    "print(datasets_list)"
   ]
  },
  {
   "cell_type": "code",
   "execution_count": 8,
   "id": "9f44d4f4-2d63-4c42-abcf-c833799204ba",
   "metadata": {},
   "outputs": [
    {
     "name": "stdout",
     "output_type": "stream",
     "text": [
      "Downloading and preparing dataset cnn_dailymail/3.0.0 (download: 558.32 MiB, generated: 1.28 GiB, post-processed: Unknown size, total: 1.82 GiB) to /home/naraki/.cache/huggingface/datasets/cnn_dailymail/3.0.0/3.0.0/3cb851bf7cf5826e45d49db2863f627cba583cbc32342df7349dfe6c38060234...\n"
     ]
    },
    {
     "data": {
      "application/vnd.jupyter.widget-view+json": {
       "model_id": "500e49cd7a224073bc9d6321631770b3",
       "version_major": 2,
       "version_minor": 0
      },
      "text/plain": [
       "  0%|          | 0/5 [00:00<?, ?it/s]"
      ]
     },
     "metadata": {},
     "output_type": "display_data"
    },
    {
     "data": {
      "application/vnd.jupyter.widget-view+json": {
       "model_id": "377e157754d7433fb3b80795adb94746",
       "version_major": 2,
       "version_minor": 0
      },
      "text/plain": [
       "Downloading:   0%|          | 0.00/159M [00:00<?, ?B/s]"
      ]
     },
     "metadata": {},
     "output_type": "display_data"
    },
    {
     "data": {
      "application/vnd.jupyter.widget-view+json": {
       "model_id": "2ca6a4efb06c4f3b92037a2fef841a14",
       "version_major": 2,
       "version_minor": 0
      },
      "text/plain": [
       "Downloading:   0%|          | 0.00/376M [00:00<?, ?B/s]"
      ]
     },
     "metadata": {},
     "output_type": "display_data"
    },
    {
     "data": {
      "application/vnd.jupyter.widget-view+json": {
       "model_id": "9d8ef70b40fb4541b0963a0083b67343",
       "version_major": 2,
       "version_minor": 0
      },
      "text/plain": [
       "Downloading:   0%|          | 0.00/572k [00:00<?, ?B/s]"
      ]
     },
     "metadata": {},
     "output_type": "display_data"
    },
    {
     "data": {
      "application/vnd.jupyter.widget-view+json": {
       "model_id": "5bc917a7e9fe401e82141aa5dc2929d1",
       "version_major": 2,
       "version_minor": 0
      },
      "text/plain": [
       "Downloading:   0%|          | 0.00/12.3M [00:00<?, ?B/s]"
      ]
     },
     "metadata": {},
     "output_type": "display_data"
    },
    {
     "data": {
      "application/vnd.jupyter.widget-view+json": {
       "model_id": "55a1b31278624f1098b1512df1a6265e",
       "version_major": 2,
       "version_minor": 0
      },
      "text/plain": [
       "Downloading:   0%|          | 0.00/661k [00:00<?, ?B/s]"
      ]
     },
     "metadata": {},
     "output_type": "display_data"
    },
    {
     "data": {
      "application/vnd.jupyter.widget-view+json": {
       "model_id": "8fae45adcfd14d689a8ed3115a6b1249",
       "version_major": 2,
       "version_minor": 0
      },
      "text/plain": [
       "  0%|          | 0/5 [00:00<?, ?it/s]"
      ]
     },
     "metadata": {},
     "output_type": "display_data"
    },
    {
     "data": {
      "application/vnd.jupyter.widget-view+json": {
       "model_id": "",
       "version_major": 2,
       "version_minor": 0
      },
      "text/plain": [
       "0 examples [00:00, ? examples/s]"
      ]
     },
     "metadata": {},
     "output_type": "display_data"
    },
    {
     "data": {
      "application/vnd.jupyter.widget-view+json": {
       "model_id": "",
       "version_major": 2,
       "version_minor": 0
      },
      "text/plain": [
       "0 examples [00:00, ? examples/s]"
      ]
     },
     "metadata": {},
     "output_type": "display_data"
    },
    {
     "data": {
      "application/vnd.jupyter.widget-view+json": {
       "model_id": "",
       "version_major": 2,
       "version_minor": 0
      },
      "text/plain": [
       "0 examples [00:00, ? examples/s]"
      ]
     },
     "metadata": {},
     "output_type": "display_data"
    },
    {
     "name": "stdout",
     "output_type": "stream",
     "text": [
      "Dataset cnn_dailymail downloaded and prepared to /home/naraki/.cache/huggingface/datasets/cnn_dailymail/3.0.0/3.0.0/3cb851bf7cf5826e45d49db2863f627cba583cbc32342df7349dfe6c38060234. Subsequent calls will reuse this data.\n"
     ]
    },
    {
     "data": {
      "application/vnd.jupyter.widget-view+json": {
       "model_id": "1726c46e87d54e129e98eca89717adee",
       "version_major": 2,
       "version_minor": 0
      },
      "text/plain": [
       "  0%|          | 0/3 [00:00<?, ?it/s]"
      ]
     },
     "metadata": {},
     "output_type": "display_data"
    },
    {
     "name": "stdout",
     "output_type": "stream",
     "text": [
      "DatasetDict({\n",
      "    train: Dataset({\n",
      "        features: ['article', 'highlights', 'id'],\n",
      "        num_rows: 287113\n",
      "    })\n",
      "    validation: Dataset({\n",
      "        features: ['article', 'highlights', 'id'],\n",
      "        num_rows: 13368\n",
      "    })\n",
      "    test: Dataset({\n",
      "        features: ['article', 'highlights', 'id'],\n",
      "        num_rows: 11490\n",
      "    })\n",
      "})\n"
     ]
    }
   ],
   "source": [
    "dataset = datasets.load_dataset('cnn_dailymail', '3.0.0')\n",
    "print(dataset)"
   ]
  },
  {
   "cell_type": "code",
   "execution_count": 15,
   "id": "c240b62b-6039-4131-81f4-cd789e03c106",
   "metadata": {},
   "outputs": [
    {
     "data": {
      "text/plain": [
       "{'id': '027936fedb5e785fe79e84cb6e55c9cc26042ad3',\n",
       " 'article': '(CNN)Wanted: film director, must be eager to shoot footage of golden lassos and invisible jets. CNN confirms that Michelle MacLaren is leaving the upcoming \"Wonder Woman\" movie (The Hollywood Reporter first broke the story). MacLaren was announced as director of the movie in November. CNN obtained a statement from Warner Bros. Pictures that says, \"Given creative differences, Warner Bros. and Michelle MacLaren have decided not to move forward with plans to develop and direct \\'Wonder Woman\\' together.\" (CNN and Warner Bros. Pictures are both owned by Time Warner.) The movie, starring Gal Gadot in the title role of the Amazon princess, is still set for release on June 23, 2017. It\\'s the first theatrical movie centering around the most popular female superhero. Gadot will appear beforehand in \"Batman v. Superman: Dawn of Justice,\" due out March 25, 2016. In the meantime, Warner will need to find someone new for the director\\'s chair.',\n",
       " 'highlights': 'Michelle MacLaren is no longer set to direct the first \"Wonder Woman\" theatrical movie .\\nMacLaren left the project over \"creative differences\"\\nMovie is currently set for 2017 .'}"
      ]
     },
     "execution_count": 17,
     "metadata": {},
     "output_type": "execute_result"
    }
   ],
   "source": [
    "dataset['test'][6]"
   ]
  },
  {
   "cell_type": "code",
   "execution_count": 7,
   "id": "8078076a-a939-464e-bda8-13a2500ecd09",
   "metadata": {},
   "outputs": [
    {
     "data": {
      "text/plain": [
       "'and Michelle MacLaren have decided not to move forward with plans to develop and direct \\'Wonder Woman\\' together.\" (CNN and Warner Bros.'"
      ]
     },
     "execution_count": 7,
     "metadata": {},
     "output_type": "execute_result"
    }
   ],
   "source": [
    "translated = model.generate(**batch)\n",
    "tgt_text = tokenizer.batch_decode(translated, skip_special_tokens=True)\n",
    "tgt_text[0]"
   ]
  },
  {
   "cell_type": "code",
   "execution_count": null,
   "id": "865141f9-3bb7-4e49-bc55-289591486ddb",
   "metadata": {},
   "outputs": [],
   "source": []
  }
 ],
 "metadata": {
  "kernelspec": {
   "display_name": "Python 3 (ipykernel)",
   "language": "python",
   "name": "python3"
  },
  "language_info": {
   "codemirror_mode": {
    "name": "ipython",
    "version": 3
   },
   "file_extension": ".py",
   "mimetype": "text/x-python",
   "name": "python",
   "nbconvert_exporter": "python",
   "pygments_lexer": "ipython3",
   "version": "3.8.9"
  }
 },
 "nbformat": 4,
 "nbformat_minor": 5
}
